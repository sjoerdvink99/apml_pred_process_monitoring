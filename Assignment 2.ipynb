{
 "cells": [
  {
   "attachments": {},
   "cell_type": "markdown",
   "id": "indian-mauritius",
   "metadata": {},
   "source": [
    "# Predictive Process Monitoring"
   ]
  },
  {
   "attachments": {},
   "cell_type": "markdown",
   "id": "binding-pixel",
   "metadata": {},
   "source": [
    "## 1. Exploring the data set\n",
    "\n",
    "\n",
    "\n",
    "### Data set: Sepsis\n",
    "\n",
    "Import the file *sepsis.csv* to load the Sepsis data set. This real-life event log contains events of sepsis cases from a hospital. Sepsis is a life threatening condition typically caused by an infection. One case represents a patient's pathway through the treatment process. The events were recorded by the ERP (Enterprise Resource Planning) system of the hospital. The original data set contains about 1000 cases with in total 15,000 events that were recorded for 16 different activities. Moreover, 39 data attributes are recorded, e.g., the group responsible for the activity, the results of tests and information from checklists. \n",
    "\n",
    "Additional information about the data can be found :\n",
    "- https://data.4tu.nl/articles/dataset/Sepsis_Cases_-_Event_Log/12707639\n",
    "- http://ceur-ws.org/Vol-1859/bpmds-08-paper.pdf"
   ]
  },
  {
   "cell_type": "code",
   "execution_count": 96,
   "id": "appropriate-michigan",
   "metadata": {},
   "outputs": [
    {
     "name": "stdout",
     "output_type": "stream",
     "text": [
      "               Age          CRP   LacticAcid   Leucocytes     duration  \\\n",
      "count  5176.000000  5176.000000  5176.000000  5176.000000  5176.000000   \n",
      "mean     70.191267    33.845634     0.547276     4.700155     8.265385   \n",
      "std      17.418468    74.729799     1.187220    10.590811    35.952867   \n",
      "min       0.000000     0.000000     0.000000     0.000000     0.000000   \n",
      "25%      60.000000     0.000000     0.000000     0.000000     0.000000   \n",
      "50%      75.000000     0.000000     0.000000     0.000000     0.266667   \n",
      "75%      85.000000    20.000000     0.700000     8.800000     7.366667   \n",
      "max      90.000000   573.000000    11.000000   296.200000   782.466667   \n",
      "\n",
      "             month      weekday         hour       remtime       elapsed  \n",
      "count  5176.000000  5176.000000  5176.000000   5176.000000   5176.000000  \n",
      "mean      6.531685     2.930835    11.244397   1193.775889   1574.430835  \n",
      "std       3.568158     2.018046     8.203143   3469.657735   4087.046260  \n",
      "min       1.000000     0.000000     0.000000      0.000000      0.000000  \n",
      "25%       3.000000     1.000000     3.000000      0.000000    155.000000  \n",
      "50%       6.000000     3.000000     9.000000    236.500000    759.000000  \n",
      "75%      10.000000     5.000000    19.000000   1173.500000   1553.000000  \n",
      "max      12.000000     6.000000    23.000000  47793.000000  47793.000000  \n",
      "Index(['DiagnosticArtAstrup', 'DiagnosticBlood', 'DiagnosticECG',\n",
      "       'DiagnosticIC', 'DiagnosticLacticAcid', 'DiagnosticLiquor',\n",
      "       'DiagnosticOther', 'DiagnosticSputum', 'DiagnosticUrinaryCulture',\n",
      "       'DiagnosticUrinarySediment', 'DiagnosticXthorax', 'DisfuncOrg',\n",
      "       'Hypotensie', 'Hypoxie', 'InfectionSuspected', 'Infusion', 'Oligurie',\n",
      "       'SIRSCritHeartRate', 'SIRSCritLeucos', 'SIRSCritTachypnea',\n",
      "       'SIRSCritTemperature', 'SIRSCriteria2OrMore', 'Age', 'Case ID',\n",
      "       'Activity', 'Diagnose', 'org:group', 'CRP', 'LacticAcid', 'Leucocytes',\n",
      "       'Complete Timestamp', 'duration', 'month', 'weekday', 'hour', 'remtime',\n",
      "       'elapsed'],\n",
      "      dtype='object')\n",
      "<class 'pandas.core.frame.DataFrame'>\n",
      "RangeIndex: 5176 entries, 0 to 5175\n",
      "Data columns (total 37 columns):\n",
      " #   Column                     Non-Null Count  Dtype  \n",
      "---  ------                     --------------  -----  \n",
      " 0   DiagnosticArtAstrup        5176 non-null   object \n",
      " 1   DiagnosticBlood            5176 non-null   object \n",
      " 2   DiagnosticECG              5176 non-null   object \n",
      " 3   DiagnosticIC               5176 non-null   object \n",
      " 4   DiagnosticLacticAcid       5176 non-null   object \n",
      " 5   DiagnosticLiquor           5176 non-null   object \n",
      " 6   DiagnosticOther            5176 non-null   object \n",
      " 7   DiagnosticSputum           5176 non-null   object \n",
      " 8   DiagnosticUrinaryCulture   5176 non-null   object \n",
      " 9   DiagnosticUrinarySediment  5176 non-null   object \n",
      " 10  DiagnosticXthorax          5176 non-null   object \n",
      " 11  DisfuncOrg                 5176 non-null   object \n",
      " 12  Hypotensie                 5176 non-null   object \n",
      " 13  Hypoxie                    5176 non-null   object \n",
      " 14  InfectionSuspected         5176 non-null   object \n",
      " 15  Infusion                   5176 non-null   object \n",
      " 16  Oligurie                   5176 non-null   object \n",
      " 17  SIRSCritHeartRate          5176 non-null   object \n",
      " 18  SIRSCritLeucos             5176 non-null   object \n",
      " 19  SIRSCritTachypnea          5176 non-null   object \n",
      " 20  SIRSCritTemperature        5176 non-null   object \n",
      " 21  SIRSCriteria2OrMore        5176 non-null   object \n",
      " 22  Age                        5176 non-null   float64\n",
      " 23  Case ID                    5176 non-null   object \n",
      " 24  Activity                   5176 non-null   object \n",
      " 25  Diagnose                   5176 non-null   object \n",
      " 26  org:group                  5176 non-null   object \n",
      " 27  CRP                        5176 non-null   float64\n",
      " 28  LacticAcid                 5176 non-null   float64\n",
      " 29  Leucocytes                 5176 non-null   float64\n",
      " 30  Complete Timestamp         5176 non-null   object \n",
      " 31  duration                   5176 non-null   float64\n",
      " 32  month                      5176 non-null   int64  \n",
      " 33  weekday                    5176 non-null   int64  \n",
      " 34  hour                       5176 non-null   int64  \n",
      " 35  remtime                    5176 non-null   float64\n",
      " 36  elapsed                    5176 non-null   float64\n",
      "dtypes: float64(7), int64(3), object(27)\n",
      "memory usage: 1.5+ MB\n",
      "None\n"
     ]
    }
   ],
   "source": [
    "# Import packages\n",
    "import pandas as pd\n",
    "\n",
    "# Import data\n",
    "data_Sepsis = pd.read_csv(\"./sepsis.csv\", sep=\";\")\n",
    "\n",
    "# create an overview of the data\n",
    "print(data_Sepsis.describe())\n",
    "print(data_Sepsis.columns)\n",
    "print(data_Sepsis.info())"
   ]
  },
  {
   "attachments": {},
   "cell_type": "markdown",
   "id": "written-queen",
   "metadata": {},
   "source": [
    "\n",
    "### 1.1 Exploratory data analysis\n",
    "\n",
    "For the data set, create 2-3 figures and tables that help you understand the data \n",
    "\n",
    "**Use the column \"remtime\" (which indicates the remaining time of each case after each corresponding event) as the response variable for regression**\n",
    "\n",
    "Note that some of these variables are categorical variables. How would you preprocess these variables?"
   ]
  },
  {
   "cell_type": "code",
   "execution_count": 94,
   "id": "dangerous-tournament",
   "metadata": {},
   "outputs": [
    {
     "data": {
      "text/html": [
       "<div>\n",
       "<style scoped>\n",
       "    .dataframe tbody tr th:only-of-type {\n",
       "        vertical-align: middle;\n",
       "    }\n",
       "\n",
       "    .dataframe tbody tr th {\n",
       "        vertical-align: top;\n",
       "    }\n",
       "\n",
       "    .dataframe thead th {\n",
       "        text-align: right;\n",
       "    }\n",
       "</style>\n",
       "<table border=\"1\" class=\"dataframe\">\n",
       "  <thead>\n",
       "    <tr style=\"text-align: right;\">\n",
       "      <th></th>\n",
       "      <th>data type</th>\n",
       "    </tr>\n",
       "  </thead>\n",
       "  <tbody>\n",
       "    <tr>\n",
       "      <th>DiagnosticArtAstrup</th>\n",
       "      <td>object</td>\n",
       "    </tr>\n",
       "    <tr>\n",
       "      <th>DiagnosticBlood</th>\n",
       "      <td>object</td>\n",
       "    </tr>\n",
       "    <tr>\n",
       "      <th>DiagnosticECG</th>\n",
       "      <td>object</td>\n",
       "    </tr>\n",
       "    <tr>\n",
       "      <th>DiagnosticIC</th>\n",
       "      <td>object</td>\n",
       "    </tr>\n",
       "    <tr>\n",
       "      <th>DiagnosticLacticAcid</th>\n",
       "      <td>object</td>\n",
       "    </tr>\n",
       "    <tr>\n",
       "      <th>DiagnosticLiquor</th>\n",
       "      <td>object</td>\n",
       "    </tr>\n",
       "    <tr>\n",
       "      <th>DiagnosticOther</th>\n",
       "      <td>object</td>\n",
       "    </tr>\n",
       "    <tr>\n",
       "      <th>DiagnosticSputum</th>\n",
       "      <td>object</td>\n",
       "    </tr>\n",
       "    <tr>\n",
       "      <th>DiagnosticUrinaryCulture</th>\n",
       "      <td>object</td>\n",
       "    </tr>\n",
       "    <tr>\n",
       "      <th>DiagnosticUrinarySediment</th>\n",
       "      <td>object</td>\n",
       "    </tr>\n",
       "    <tr>\n",
       "      <th>DiagnosticXthorax</th>\n",
       "      <td>object</td>\n",
       "    </tr>\n",
       "    <tr>\n",
       "      <th>DisfuncOrg</th>\n",
       "      <td>object</td>\n",
       "    </tr>\n",
       "    <tr>\n",
       "      <th>Hypotensie</th>\n",
       "      <td>object</td>\n",
       "    </tr>\n",
       "    <tr>\n",
       "      <th>Hypoxie</th>\n",
       "      <td>object</td>\n",
       "    </tr>\n",
       "    <tr>\n",
       "      <th>InfectionSuspected</th>\n",
       "      <td>object</td>\n",
       "    </tr>\n",
       "    <tr>\n",
       "      <th>Infusion</th>\n",
       "      <td>object</td>\n",
       "    </tr>\n",
       "    <tr>\n",
       "      <th>Oligurie</th>\n",
       "      <td>object</td>\n",
       "    </tr>\n",
       "    <tr>\n",
       "      <th>SIRSCritHeartRate</th>\n",
       "      <td>object</td>\n",
       "    </tr>\n",
       "    <tr>\n",
       "      <th>SIRSCritLeucos</th>\n",
       "      <td>object</td>\n",
       "    </tr>\n",
       "    <tr>\n",
       "      <th>SIRSCritTachypnea</th>\n",
       "      <td>object</td>\n",
       "    </tr>\n",
       "    <tr>\n",
       "      <th>SIRSCritTemperature</th>\n",
       "      <td>object</td>\n",
       "    </tr>\n",
       "    <tr>\n",
       "      <th>SIRSCriteria2OrMore</th>\n",
       "      <td>object</td>\n",
       "    </tr>\n",
       "    <tr>\n",
       "      <th>Age</th>\n",
       "      <td>float64</td>\n",
       "    </tr>\n",
       "    <tr>\n",
       "      <th>Case ID</th>\n",
       "      <td>object</td>\n",
       "    </tr>\n",
       "    <tr>\n",
       "      <th>Activity</th>\n",
       "      <td>object</td>\n",
       "    </tr>\n",
       "    <tr>\n",
       "      <th>Diagnose</th>\n",
       "      <td>object</td>\n",
       "    </tr>\n",
       "    <tr>\n",
       "      <th>org:group</th>\n",
       "      <td>object</td>\n",
       "    </tr>\n",
       "    <tr>\n",
       "      <th>CRP</th>\n",
       "      <td>float64</td>\n",
       "    </tr>\n",
       "    <tr>\n",
       "      <th>LacticAcid</th>\n",
       "      <td>float64</td>\n",
       "    </tr>\n",
       "    <tr>\n",
       "      <th>Leucocytes</th>\n",
       "      <td>float64</td>\n",
       "    </tr>\n",
       "    <tr>\n",
       "      <th>Complete Timestamp</th>\n",
       "      <td>object</td>\n",
       "    </tr>\n",
       "    <tr>\n",
       "      <th>duration</th>\n",
       "      <td>float64</td>\n",
       "    </tr>\n",
       "    <tr>\n",
       "      <th>month</th>\n",
       "      <td>int64</td>\n",
       "    </tr>\n",
       "    <tr>\n",
       "      <th>weekday</th>\n",
       "      <td>int64</td>\n",
       "    </tr>\n",
       "    <tr>\n",
       "      <th>hour</th>\n",
       "      <td>int64</td>\n",
       "    </tr>\n",
       "    <tr>\n",
       "      <th>remtime</th>\n",
       "      <td>float64</td>\n",
       "    </tr>\n",
       "    <tr>\n",
       "      <th>elapsed</th>\n",
       "      <td>float64</td>\n",
       "    </tr>\n",
       "  </tbody>\n",
       "</table>\n",
       "</div>"
      ],
      "text/plain": [
       "                          data type\n",
       "DiagnosticArtAstrup          object\n",
       "DiagnosticBlood              object\n",
       "DiagnosticECG                object\n",
       "DiagnosticIC                 object\n",
       "DiagnosticLacticAcid         object\n",
       "DiagnosticLiquor             object\n",
       "DiagnosticOther              object\n",
       "DiagnosticSputum             object\n",
       "DiagnosticUrinaryCulture     object\n",
       "DiagnosticUrinarySediment    object\n",
       "DiagnosticXthorax            object\n",
       "DisfuncOrg                   object\n",
       "Hypotensie                   object\n",
       "Hypoxie                      object\n",
       "InfectionSuspected           object\n",
       "Infusion                     object\n",
       "Oligurie                     object\n",
       "SIRSCritHeartRate            object\n",
       "SIRSCritLeucos               object\n",
       "SIRSCritTachypnea            object\n",
       "SIRSCritTemperature          object\n",
       "SIRSCriteria2OrMore          object\n",
       "Age                         float64\n",
       "Case ID                      object\n",
       "Activity                     object\n",
       "Diagnose                     object\n",
       "org:group                    object\n",
       "CRP                         float64\n",
       "LacticAcid                  float64\n",
       "Leucocytes                  float64\n",
       "Complete Timestamp           object\n",
       "duration                    float64\n",
       "month                         int64\n",
       "weekday                       int64\n",
       "hour                          int64\n",
       "remtime                     float64\n",
       "elapsed                     float64"
      ]
     },
     "metadata": {},
     "output_type": "display_data"
    },
    {
     "data": {
      "image/png": "[encoded data removed]",
      "text/plain": [
       "<Figure size 1080x1080 with 6 Axes>"
      ]
     },
     "metadata": {},
     "output_type": "display_data"
    },
    {
     "data": {
      "application/vnd.plotly.v1+json": {
       "config": {
        "plotlyServerURL": "https://plot.ly"
       },
       "data": [
        {
         "coloraxis": "coloraxis",
         "hovertemplate": "x: %{x}<br>y: %{y}<br>color: %{z}<extra></extra>",
         "name": "0",
         "type": "heatmap",
         "x": [
          "Age",
          "CRP",
          "LacticAcid",
          "Leucocytes",
          "duration",
          "month",
          "weekday",
          "hour",
          "remtime",
          "elapsed"
         ],
         "xaxis": "x",
         "y": [
          "Age",
          "CRP",
          "LacticAcid",
          "Leucocytes",
          "duration",
          "month",
          "weekday",
          "hour",
          "remtime",
          "elapsed"
         ],
         "yaxis": "y",
         "z": [
          [
           1,
           -0.00882504879720669,
           0.046999169463172154,
           0.021338810748738717,
           -0.05817281265850496,
           0.04106704902523248,
           -0.03197512958154,
           0.10411048789145169,
           -0.11859280973070739,
           -0.10772226109940733
          ],
          [
           -0.00882504879720669,
           1,
           0.27295891077715473,
           0.28226538031378995,
           0.061334902629561434,
           0.02107382850680679,
           -0.007892116954185197,
           0.013358533375892503,
           -0.028904795369416984,
           0.17590200858613048
          ],
          [
           0.046999169463172154,
           0.27295891077715473,
           1,
           0.2413139725285421,
           0.0009431798834765527,
           0.02242452681773918,
           -0.013564046930000545,
           -0.011333635879972041,
           -0.08028295184044036,
           0.044755328003068494
          ],
          [
           0.021338810748738717,
           0.28226538031378995,
           0.2413139725285421,
           1,
           0.07431966582915751,
           0.0008962630430530965,
           -0.004674739406392952,
           0.012771328441735872,
           -0.024366575553908795,
           0.16433048139958933
          ],
          [
           -0.05817281265850496,
           0.061334902629561434,
           0.0009431798834765527,
           0.07431966582915751,
           1,
           -0.006388563241612092,
           -0.009730279005072895,
           -0.03214657719501512,
           0.0004666566349922758,
           0.5346883103757268
          ],
          [
           0.04106704902523248,
           0.02107382850680679,
           0.02242452681773918,
           0.0008962630430530965,
           -0.006388563241612092,
           1,
           0.003551533405509484,
           0.04914689625508429,
           -0.01040513909867758,
           -0.011489153571671682
          ],
          [
           -0.03197512958154,
           -0.007892116954185197,
           -0.013564046930000545,
           -0.004674739406392952,
           -0.009730279005072895,
           0.003551533405509484,
           1,
           0.004896708240145327,
           0.01341087326481223,
           -0.018927725709024467
          ],
          [
           0.10411048789145169,
           0.013358533375892503,
           -0.011333635879972041,
           0.012771328441735872,
           -0.03214657719501512,
           0.04914689625508429,
           0.004896708240145327,
           1,
           0.03972831918441038,
           -0.0735715929756952
          ],
          [
           -0.11859280973070739,
           -0.028904795369416984,
           -0.08028295184044036,
           -0.024366575553908795,
           0.0004666566349922758,
           -0.01040513909867758,
           0.01341087326481223,
           0.03972831918441038,
           1,
           -0.027687579376600806
          ],
          [
           -0.10772226109940733,
           0.17590200858613048,
           0.044755328003068494,
           0.16433048139958933,
           0.5346883103757268,
           -0.011489153571671682,
           -0.018927725709024467,
           -0.0735715929756952,
           -0.027687579376600806,
           1
          ]
         ]
        }
       ],
       "layout": {
        "coloraxis": {
         "colorscale": [
          [
           0,
           "#0d0887"
          ],
          [
           0.1111111111111111,
           "#46039f"
          ],
          [
           0.2222222222222222,
           "#7201a8"
          ],
          [
           0.3333333333333333,
           "#9c179e"
          ],
          [
           0.4444444444444444,
           "#bd3786"
          ],
          [
           0.5555555555555556,
           "#d8576b"
          ],
          [
           0.6666666666666666,
           "#ed7953"
          ],
          [
           0.7777777777777778,
           "#fb9f3a"
          ],
          [
           0.8888888888888888,
           "#fdca26"
          ],
          [
           1,
           "#f0f921"
          ]
         ]
        },
        "template": {
         "data": {
          "bar": [
           {
            "error_x": {
             "color": "#2a3f5f"
            },
            "error_y": {
             "color": "#2a3f5f"
            },
            "marker": {
             "line": {
              "color": "#E5ECF6",
              "width": 0.5
             }
            },
            "type": "bar"
           }
          ],
          "barpolar": [
           {
            "marker": {
             "line": {
              "color": "#E5ECF6",
              "width": 0.5
             }
            },
            "type": "barpolar"
           }
          ],
          "carpet": [
           {
            "aaxis": {
             "endlinecolor": "#2a3f5f",
             "gridcolor": "white",
             "linecolor": "white",
             "minorgridcolor": "white",
             "startlinecolor": "#2a3f5f"
            },
            "baxis": {
             "endlinecolor": "#2a3f5f",
             "gridcolor": "white",
             "linecolor": "white",
             "minorgridcolor": "white",
             "startlinecolor": "#2a3f5f"
            },
            "type": "carpet"
           }
          ],
          "choropleth": [
           {
            "colorbar": {
             "outlinewidth": 0,
             "ticks": ""
            },
            "type": "choropleth"
           }
          ],
          "contour": [
           {
            "colorbar": {
             "outlinewidth": 0,
             "ticks": ""
            },
            "colorscale": [
             [
              0,
              "#0d0887"
             ],
             [
              0.1111111111111111,
              "#46039f"
             ],
             [
              0.2222222222222222,
              "#7201a8"
             ],
             [
              0.3333333333333333,
              "#9c179e"
             ],
             [
              0.4444444444444444,
              "#bd3786"
             ],
             [
              0.5555555555555556,
              "#d8576b"
             ],
             [
              0.6666666666666666,
              "#ed7953"
             ],
             [
              0.7777777777777778,
              "#fb9f3a"
             ],
             [
              0.8888888888888888,
              "#fdca26"
             ],
             [
              1,
              "#f0f921"
             ]
            ],
            "type": "contour"
           }
          ],
          "contourcarpet": [
           {
            "colorbar": {
             "outlinewidth": 0,
             "ticks": ""
            },
            "type": "contourcarpet"
           }
          ],
          "heatmap": [
           {
            "colorbar": {
             "outlinewidth": 0,
             "ticks": ""
            },
            "colorscale": [
             [
              0,
              "#0d0887"
             ],
             [
              0.1111111111111111,
              "#46039f"
             ],
             [
              0.2222222222222222,
              "#7201a8"
             ],
             [
              0.3333333333333333,
              "#9c179e"
             ],
             [
              0.4444444444444444,
              "#bd3786"
             ],
             [
              0.5555555555555556,
              "#d8576b"
             ],
             [
              0.6666666666666666,
              "#ed7953"
             ],
             [
              0.7777777777777778,
              "#fb9f3a"
             ],
             [
              0.8888888888888888,
              "#fdca26"
             ],
             [
              1,
              "#f0f921"
             ]
            ],
            "type": "heatmap"
           }
          ],
          "heatmapgl": [
           {
            "colorbar": {
             "outlinewidth": 0,
             "ticks": ""
            },
            "colorscale": [
             [
              0,
              "#0d0887"
             ],
             [
              0.1111111111111111,
              "#46039f"
             ],
             [
              0.2222222222222222,
              "#7201a8"
             ],
             [
              0.3333333333333333,
              "#9c179e"
             ],
             [
              0.4444444444444444,
              "#bd3786"
             ],
             [
              0.5555555555555556,
              "#d8576b"
             ],
             [
              0.6666666666666666,
              "#ed7953"
             ],
             [
              0.7777777777777778,
              "#fb9f3a"
             ],
             [
              0.8888888888888888,
              "#fdca26"
             ],
             [
              1,
              "#f0f921"
             ]
            ],
            "type": "heatmapgl"
           }
          ],
          "histogram": [
           {
            "marker": {
             "colorbar": {
              "outlinewidth": 0,
              "ticks": ""
             }
            },
            "type": "histogram"
           }
          ],
          "histogram2d": [
           {
            "colorbar": {
             "outlinewidth": 0,
             "ticks": ""
            },
            "colorscale": [
             [
              0,
              "#0d0887"
             ],
             [
              0.1111111111111111,
              "#46039f"
             ],
             [
              0.2222222222222222,
              "#7201a8"
             ],
             [
              0.3333333333333333,
              "#9c179e"
             ],
             [
              0.4444444444444444,
              "#bd3786"
             ],
             [
              0.5555555555555556,
              "#d8576b"
             ],
             [
              0.6666666666666666,
              "#ed7953"
             ],
             [
              0.7777777777777778,
              "#fb9f3a"
             ],
             [
              0.8888888888888888,
              "#fdca26"
             ],
             [
              1,
              "#f0f921"
             ]
            ],
            "type": "histogram2d"
           }
          ],
          "histogram2dcontour": [
           {
            "colorbar": {
             "outlinewidth": 0,
             "ticks": ""
            },
            "colorscale": [
             [
              0,
              "#0d0887"
             ],
             [
              0.1111111111111111,
              "#46039f"
             ],
             [
              0.2222222222222222,
              "#7201a8"
             ],
             [
              0.3333333333333333,
              "#9c179e"
             ],
             [
              0.4444444444444444,
              "#bd3786"
             ],
             [
              0.5555555555555556,
              "#d8576b"
             ],
             [
              0.6666666666666666,
              "#ed7953"
             ],
             [
              0.7777777777777778,
              "#fb9f3a"
             ],
             [
              0.8888888888888888,
              "#fdca26"
             ],
             [
              1,
              "#f0f921"
             ]
            ],
            "type": "histogram2dcontour"
           }
          ],
          "mesh3d": [
           {
            "colorbar": {
             "outlinewidth": 0,
             "ticks": ""
            },
            "type": "mesh3d"
           }
          ],
          "parcoords": [
           {
            "line": {
             "colorbar": {
              "outlinewidth": 0,
              "ticks": ""
             }
            },
            "type": "parcoords"
           }
          ],
          "pie": [
           {
            "automargin": true,
            "type": "pie"
           }
          ],
          "scatter": [
           {
            "marker": {
             "colorbar": {
              "outlinewidth": 0,
              "ticks": ""
             }
            },
            "type": "scatter"
           }
          ],
          "scatter3d": [
           {
            "line": {
             "colorbar": {
              "outlinewidth": 0,
              "ticks": ""
             }
            },
            "marker": {
             "colorbar": {
              "outlinewidth": 0,
              "ticks": ""
             }
            },
            "type": "scatter3d"
           }
          ],
          "scattercarpet": [
           {
            "marker": {
             "colorbar": {
              "outlinewidth": 0,
              "ticks": ""
             }
            },
            "type": "scattercarpet"
           }
          ],
          "scattergeo": [
           {
            "marker": {
             "colorbar": {
              "outlinewidth": 0,
              "ticks": ""
             }
            },
            "type": "scattergeo"
           }
          ],
          "scattergl": [
           {
            "marker": {
             "colorbar": {
              "outlinewidth": 0,
              "ticks": ""
             }
            },
            "type": "scattergl"
           }
          ],
          "scattermapbox": [
           {
            "marker": {
             "colorbar": {
              "outlinewidth": 0,
              "ticks": ""
             }
            },
            "type": "scattermapbox"
           }
          ],
          "scatterpolar": [
           {
            "marker": {
             "colorbar": {
              "outlinewidth": 0,
              "ticks": ""
             }
            },
            "type": "scatterpolar"
           }
          ],
          "scatterpolargl": [
           {
            "marker": {
             "colorbar": {
              "outlinewidth": 0,
              "ticks": ""
             }
            },
            "type": "scatterpolargl"
           }
          ],
          "scatterternary": [
           {
            "marker": {
             "colorbar": {
              "outlinewidth": 0,
              "ticks": ""
             }
            },
            "type": "scatterternary"
           }
          ],
          "surface": [
           {
            "colorbar": {
             "outlinewidth": 0,
             "ticks": ""
            },
            "colorscale": [
             [
              0,
              "#0d0887"
             ],
             [
              0.1111111111111111,
              "#46039f"
             ],
             [
              0.2222222222222222,
              "#7201a8"
             ],
             [
              0.3333333333333333,
              "#9c179e"
             ],
             [
              0.4444444444444444,
              "#bd3786"
             ],
             [
              0.5555555555555556,
              "#d8576b"
             ],
             [
              0.6666666666666666,
              "#ed7953"
             ],
             [
              0.7777777777777778,
              "#fb9f3a"
             ],
             [
              0.8888888888888888,
              "#fdca26"
             ],
             [
              1,
              "#f0f921"
             ]
            ],
            "type": "surface"
           }
          ],
          "table": [
           {
            "cells": {
             "fill": {
              "color": "#EBF0F8"
             },
             "line": {
              "color": "white"
             }
            },
            "header": {
             "fill": {
              "color": "#C8D4E3"
             },
             "line": {
              "color": "white"
             }
            },
            "type": "table"
           }
          ]
         },
         "layout": {
          "annotationdefaults": {
           "arrowcolor": "#2a3f5f",
           "arrowhead": 0,
           "arrowwidth": 1
          },
          "autotypenumbers": "strict",
          "coloraxis": {
           "colorbar": {
            "outlinewidth": 0,
            "ticks": ""
           }
          },
          "colorscale": {
           "diverging": [
            [
             0,
             "#8e0152"
            ],
            [
             0.1,
             "#c51b7d"
            ],
            [
             0.2,
             "#de77ae"
            ],
            [
             0.3,
             "#f1b6da"
            ],
            [
             0.4,
             "#fde0ef"
            ],
            [
             0.5,
             "#f7f7f7"
            ],
            [
             0.6,
             "#e6f5d0"
            ],
            [
             0.7,
             "#b8e186"
            ],
            [
             0.8,
             "#7fbc41"
            ],
            [
             0.9,
             "#4d9221"
            ],
            [
             1,
             "#276419"
            ]
           ],
           "sequential": [
            [
             0,
             "#0d0887"
            ],
            [
             0.1111111111111111,
             "#46039f"
            ],
            [
             0.2222222222222222,
             "#7201a8"
            ],
            [
             0.3333333333333333,
             "#9c179e"
            ],
            [
             0.4444444444444444,
             "#bd3786"
            ],
            [
             0.5555555555555556,
             "#d8576b"
            ],
            [
             0.6666666666666666,
             "#ed7953"
            ],
            [
             0.7777777777777778,
             "#fb9f3a"
            ],
            [
             0.8888888888888888,
             "#fdca26"
            ],
            [
             1,
             "#f0f921"
            ]
           ],
           "sequentialminus": [
            [
             0,
             "#0d0887"
            ],
            [
             0.1111111111111111,
             "#46039f"
            ],
            [
             0.2222222222222222,
             "#7201a8"
            ],
            [
             0.3333333333333333,
             "#9c179e"
            ],
            [
             0.4444444444444444,
             "#bd3786"
            ],
            [
             0.5555555555555556,
             "#d8576b"
            ],
            [
             0.6666666666666666,
             "#ed7953"
            ],
            [
             0.7777777777777778,
             "#fb9f3a"
            ],
            [
             0.8888888888888888,
             "#fdca26"
            ],
            [
             1,
             "#f0f921"
            ]
           ]
          },
          "colorway": [
           "#636efa",
           "#EF553B",
           "#00cc96",
           "#ab63fa",
           "#FFA15A",
           "#19d3f3",
           "#FF6692",
           "#B6E880",
           "#FF97FF",
           "#FECB52"
          ],
          "font": {
           "color": "#2a3f5f"
          },
          "geo": {
           "bgcolor": "white",
           "lakecolor": "white",
           "landcolor": "#E5ECF6",
           "showlakes": true,
           "showland": true,
           "subunitcolor": "white"
          },
          "hoverlabel": {
           "align": "left"
          },
          "hovermode": "closest",
          "mapbox": {
           "style": "light"
          },
          "paper_bgcolor": "white",
          "plot_bgcolor": "#E5ECF6",
          "polar": {
           "angularaxis": {
            "gridcolor": "white",
            "linecolor": "white",
            "ticks": ""
           },
           "bgcolor": "#E5ECF6",
           "radialaxis": {
            "gridcolor": "white",
            "linecolor": "white",
            "ticks": ""
           }
          },
          "scene": {
           "xaxis": {
            "backgroundcolor": "#E5ECF6",
            "gridcolor": "white",
            "gridwidth": 2,
            "linecolor": "white",
            "showbackground": true,
            "ticks": "",
            "zerolinecolor": "white"
           },
           "yaxis": {
            "backgroundcolor": "#E5ECF6",
            "gridcolor": "white",
            "gridwidth": 2,
            "linecolor": "white",
            "showbackground": true,
            "ticks": "",
            "zerolinecolor": "white"
           },
           "zaxis": {
            "backgroundcolor": "#E5ECF6",
            "gridcolor": "white",
            "gridwidth": 2,
            "linecolor": "white",
            "showbackground": true,
            "ticks": "",
            "zerolinecolor": "white"
           }
          },
          "shapedefaults": {
           "line": {
            "color": "#2a3f5f"
           }
          },
          "ternary": {
           "aaxis": {
            "gridcolor": "white",
            "linecolor": "white",
            "ticks": ""
           },
           "baxis": {
            "gridcolor": "white",
            "linecolor": "white",
            "ticks": ""
           },
           "bgcolor": "#E5ECF6",
           "caxis": {
            "gridcolor": "white",
            "linecolor": "white",
            "ticks": ""
           }
          },
          "title": {
           "x": 0.05
          },
          "xaxis": {
           "automargin": true,
           "gridcolor": "white",
           "linecolor": "white",
           "ticks": "",
           "title": {
            "standoff": 15
           },
           "zerolinecolor": "white",
           "zerolinewidth": 2
          },
          "yaxis": {
           "automargin": true,
           "gridcolor": "white",
           "linecolor": "white",
           "ticks": "",
           "title": {
            "standoff": 15
           },
           "zerolinecolor": "white",
           "zerolinewidth": 2
          }
         }
        },
        "title": {
         "text": "Correlation plot"
        },
        "xaxis": {
         "anchor": "y",
         "constrain": "domain",
         "domain": [
          0,
          1
         ],
         "scaleanchor": "y"
        },
        "yaxis": {
         "anchor": "x",
         "autorange": "reversed",
         "constrain": "domain",
         "domain": [
          0,
          1
         ]
        }
       }
      }
     },
     "metadata": {},
     "output_type": "display_data"
    }
   ],
   "source": [
    "# Import packages\n",
    "import matplotlib.pyplot as plt\n",
    "import seaborn as sns\n",
    "import plotly.express as px\n",
    "\n",
    "# Display data types\n",
    "data_types = dict(data_Sepsis.dtypes)\n",
    "data_types = pd.DataFrame.from_dict(data_types, orient='index', columns=['data type'])\n",
    "display(data_types)\n",
    "\n",
    "# Distribution of float variables\n",
    "sns.set(style=\"whitegrid\", palette=\"muted\")\n",
    "\n",
    "# Define figure and subplots\n",
    "fig, axes = plt.subplots(2, 3, figsize=(15, 15))\n",
    "fig.suptitle('Distribution plots')\n",
    "\n",
    "# First row in figure\n",
    "sns.histplot(data_Sepsis['Age'], kde=True, ax=axes[0, 0], stat=\"density\", linewidth=0)\n",
    "sns.histplot(data_Sepsis['CRP'],kde=True, ax=axes[0, 1], stat=\"density\", linewidth=0)\n",
    "sns.histplot(data_Sepsis['LacticAcid'], kde=True, ax=axes[0, 2])\n",
    "\n",
    "# Second row in figure\n",
    "sns.histplot(data_Sepsis['duration'], kde=True, ax=axes[1, 0])\n",
    "sns.histplot(data_Sepsis['remtime'], kde=True, ax=axes[1, 1])\n",
    "sns.histplot(data_Sepsis['elapsed'], kde=True, ax=axes[1, 2])\n",
    "\n",
    "# Resetting the axis so the information is visible\n",
    "axes[0, 0].set_xlim(0, 100)\n",
    "axes[0, 1].set_xlim(0, 40)\n",
    "axes[0, 1].set_ylim(0, 0.05)\n",
    "axes[0, 2].set_xlim(0, 5)\n",
    "axes[0, 2].set_ylim(0, 700)\n",
    "axes[1, 0].set_xlim(0, 50)\n",
    "axes[1, 0].set_ylim(0, 300)\n",
    "axes[1, 1].set_xlim(0, 10000)\n",
    "axes[1, 1].set_ylim(0, 500)\n",
    "axes[1, 2].set_xlim(0, 10000)\n",
    "axes[1, 2].set_ylim(0, 500)\n",
    "\n",
    "plt.show()\n",
    "\n",
    "# Correlation plot between all dimensions\n",
    "fig = px.imshow(data_Sepsis.corr(), title=\"Correlation plot\")\n",
    "fig.show()"
   ]
  },
  {
   "cell_type": "markdown",
   "id": "a63b1794",
   "metadata": {},
   "source": [
    "### 1.2 Data cleaning\n",
    "\n",
    "You have now gathered some information about the data during the data exploration task. You also know from the assignment description that you will be using regression trees and kNN regression models to predict the remaining time.\n",
    "\n",
    "Based on the above information, decide on which cleaning steps you will need to perform and implement them accordingly.\n"
   ]
  },
  {
   "cell_type": "code",
   "execution_count": 97,
   "id": "a0d5fa03",
   "metadata": {},
   "outputs": [
    {
     "data": {
      "text/plain": [
       "(5176, 37)"
      ]
     },
     "execution_count": 97,
     "metadata": {},
     "output_type": "execute_result"
    }
   ],
   "source": [
    "data_Sepsis.shape"
   ]
  },
  {
   "cell_type": "code",
   "execution_count": 98,
   "id": "5d72470e",
   "metadata": {},
   "outputs": [
    {
     "data": {
      "text/html": [
       "<div>\n",
       "<style scoped>\n",
       "    .dataframe tbody tr th:only-of-type {\n",
       "        vertical-align: middle;\n",
       "    }\n",
       "\n",
       "    .dataframe tbody tr th {\n",
       "        vertical-align: top;\n",
       "    }\n",
       "\n",
       "    .dataframe thead th {\n",
       "        text-align: right;\n",
       "    }\n",
       "</style>\n",
       "<table border=\"1\" class=\"dataframe\">\n",
       "  <thead>\n",
       "    <tr style=\"text-align: right;\">\n",
       "      <th></th>\n",
       "      <th>DiagnosticArtAstrup</th>\n",
       "      <th>DiagnosticBlood</th>\n",
       "      <th>DiagnosticECG</th>\n",
       "      <th>DiagnosticIC</th>\n",
       "      <th>DiagnosticLacticAcid</th>\n",
       "      <th>DiagnosticLiquor</th>\n",
       "      <th>DiagnosticOther</th>\n",
       "      <th>DiagnosticSputum</th>\n",
       "      <th>DiagnosticUrinaryCulture</th>\n",
       "      <th>DiagnosticUrinarySediment</th>\n",
       "      <th>...</th>\n",
       "      <th>CRP</th>\n",
       "      <th>LacticAcid</th>\n",
       "      <th>Leucocytes</th>\n",
       "      <th>Complete Timestamp</th>\n",
       "      <th>duration</th>\n",
       "      <th>month</th>\n",
       "      <th>weekday</th>\n",
       "      <th>hour</th>\n",
       "      <th>remtime</th>\n",
       "      <th>elapsed</th>\n",
       "    </tr>\n",
       "  </thead>\n",
       "  <tbody>\n",
       "    <tr>\n",
       "      <th>0</th>\n",
       "      <td>True</td>\n",
       "      <td>True</td>\n",
       "      <td>True</td>\n",
       "      <td>True</td>\n",
       "      <td>True</td>\n",
       "      <td>False</td>\n",
       "      <td>False</td>\n",
       "      <td>False</td>\n",
       "      <td>True</td>\n",
       "      <td>True</td>\n",
       "      <td>...</td>\n",
       "      <td>21.0</td>\n",
       "      <td>2.2</td>\n",
       "      <td>9.6</td>\n",
       "      <td>2014-10-22 19:34:00</td>\n",
       "      <td>0.383333</td>\n",
       "      <td>10</td>\n",
       "      <td>2</td>\n",
       "      <td>19</td>\n",
       "      <td>0.0</td>\n",
       "      <td>1099.0</td>\n",
       "    </tr>\n",
       "    <tr>\n",
       "      <th>1</th>\n",
       "      <td>True</td>\n",
       "      <td>True</td>\n",
       "      <td>True</td>\n",
       "      <td>True</td>\n",
       "      <td>True</td>\n",
       "      <td>False</td>\n",
       "      <td>False</td>\n",
       "      <td>False</td>\n",
       "      <td>True</td>\n",
       "      <td>True</td>\n",
       "      <td>...</td>\n",
       "      <td>21.0</td>\n",
       "      <td>2.2</td>\n",
       "      <td>9.6</td>\n",
       "      <td>2014-10-22 19:33:37</td>\n",
       "      <td>6.616667</td>\n",
       "      <td>10</td>\n",
       "      <td>2</td>\n",
       "      <td>19</td>\n",
       "      <td>23.0</td>\n",
       "      <td>1076.0</td>\n",
       "    </tr>\n",
       "    <tr>\n",
       "      <th>2</th>\n",
       "      <td>True</td>\n",
       "      <td>True</td>\n",
       "      <td>True</td>\n",
       "      <td>True</td>\n",
       "      <td>True</td>\n",
       "      <td>False</td>\n",
       "      <td>False</td>\n",
       "      <td>False</td>\n",
       "      <td>True</td>\n",
       "      <td>True</td>\n",
       "      <td>...</td>\n",
       "      <td>21.0</td>\n",
       "      <td>2.2</td>\n",
       "      <td>9.6</td>\n",
       "      <td>2014-10-22 19:27:00</td>\n",
       "      <td>0.000000</td>\n",
       "      <td>10</td>\n",
       "      <td>2</td>\n",
       "      <td>19</td>\n",
       "      <td>420.0</td>\n",
       "      <td>679.0</td>\n",
       "    </tr>\n",
       "    <tr>\n",
       "      <th>3</th>\n",
       "      <td>True</td>\n",
       "      <td>True</td>\n",
       "      <td>True</td>\n",
       "      <td>True</td>\n",
       "      <td>True</td>\n",
       "      <td>False</td>\n",
       "      <td>False</td>\n",
       "      <td>False</td>\n",
       "      <td>True</td>\n",
       "      <td>True</td>\n",
       "      <td>...</td>\n",
       "      <td>21.0</td>\n",
       "      <td>2.2</td>\n",
       "      <td>0.0</td>\n",
       "      <td>2014-10-22 19:27:00</td>\n",
       "      <td>0.000000</td>\n",
       "      <td>10</td>\n",
       "      <td>2</td>\n",
       "      <td>19</td>\n",
       "      <td>420.0</td>\n",
       "      <td>679.0</td>\n",
       "    </tr>\n",
       "    <tr>\n",
       "      <th>4</th>\n",
       "      <td>True</td>\n",
       "      <td>True</td>\n",
       "      <td>True</td>\n",
       "      <td>True</td>\n",
       "      <td>True</td>\n",
       "      <td>False</td>\n",
       "      <td>False</td>\n",
       "      <td>False</td>\n",
       "      <td>True</td>\n",
       "      <td>True</td>\n",
       "      <td>...</td>\n",
       "      <td>0.0</td>\n",
       "      <td>2.2</td>\n",
       "      <td>0.0</td>\n",
       "      <td>2014-10-22 19:27:00</td>\n",
       "      <td>11.316667</td>\n",
       "      <td>10</td>\n",
       "      <td>2</td>\n",
       "      <td>19</td>\n",
       "      <td>420.0</td>\n",
       "      <td>679.0</td>\n",
       "    </tr>\n",
       "    <tr>\n",
       "      <th>...</th>\n",
       "      <td>...</td>\n",
       "      <td>...</td>\n",
       "      <td>...</td>\n",
       "      <td>...</td>\n",
       "      <td>...</td>\n",
       "      <td>...</td>\n",
       "      <td>...</td>\n",
       "      <td>...</td>\n",
       "      <td>...</td>\n",
       "      <td>...</td>\n",
       "      <td>...</td>\n",
       "      <td>...</td>\n",
       "      <td>...</td>\n",
       "      <td>...</td>\n",
       "      <td>...</td>\n",
       "      <td>...</td>\n",
       "      <td>...</td>\n",
       "      <td>...</td>\n",
       "      <td>...</td>\n",
       "      <td>...</td>\n",
       "      <td>...</td>\n",
       "    </tr>\n",
       "    <tr>\n",
       "      <th>5171</th>\n",
       "      <td>False</td>\n",
       "      <td>True</td>\n",
       "      <td>True</td>\n",
       "      <td>True</td>\n",
       "      <td>True</td>\n",
       "      <td>False</td>\n",
       "      <td>False</td>\n",
       "      <td>False</td>\n",
       "      <td>True</td>\n",
       "      <td>True</td>\n",
       "      <td>...</td>\n",
       "      <td>0.0</td>\n",
       "      <td>2.6</td>\n",
       "      <td>12.5</td>\n",
       "      <td>2014-11-13 02:07:00</td>\n",
       "      <td>0.000000</td>\n",
       "      <td>11</td>\n",
       "      <td>3</td>\n",
       "      <td>2</td>\n",
       "      <td>0.0</td>\n",
       "      <td>1950.0</td>\n",
       "    </tr>\n",
       "    <tr>\n",
       "      <th>5172</th>\n",
       "      <td>False</td>\n",
       "      <td>True</td>\n",
       "      <td>True</td>\n",
       "      <td>True</td>\n",
       "      <td>True</td>\n",
       "      <td>False</td>\n",
       "      <td>False</td>\n",
       "      <td>False</td>\n",
       "      <td>True</td>\n",
       "      <td>True</td>\n",
       "      <td>...</td>\n",
       "      <td>0.0</td>\n",
       "      <td>2.6</td>\n",
       "      <td>0.0</td>\n",
       "      <td>2014-11-13 02:07:00</td>\n",
       "      <td>17.183333</td>\n",
       "      <td>11</td>\n",
       "      <td>3</td>\n",
       "      <td>2</td>\n",
       "      <td>0.0</td>\n",
       "      <td>1950.0</td>\n",
       "    </tr>\n",
       "    <tr>\n",
       "      <th>5173</th>\n",
       "      <td>False</td>\n",
       "      <td>True</td>\n",
       "      <td>True</td>\n",
       "      <td>True</td>\n",
       "      <td>True</td>\n",
       "      <td>False</td>\n",
       "      <td>False</td>\n",
       "      <td>False</td>\n",
       "      <td>True</td>\n",
       "      <td>True</td>\n",
       "      <td>...</td>\n",
       "      <td>0.0</td>\n",
       "      <td>0.0</td>\n",
       "      <td>0.0</td>\n",
       "      <td>2014-11-13 01:49:49</td>\n",
       "      <td>0.200000</td>\n",
       "      <td>11</td>\n",
       "      <td>3</td>\n",
       "      <td>1</td>\n",
       "      <td>1031.0</td>\n",
       "      <td>919.0</td>\n",
       "    </tr>\n",
       "    <tr>\n",
       "      <th>5174</th>\n",
       "      <td>False</td>\n",
       "      <td>True</td>\n",
       "      <td>True</td>\n",
       "      <td>True</td>\n",
       "      <td>True</td>\n",
       "      <td>False</td>\n",
       "      <td>False</td>\n",
       "      <td>False</td>\n",
       "      <td>True</td>\n",
       "      <td>True</td>\n",
       "      <td>...</td>\n",
       "      <td>0.0</td>\n",
       "      <td>0.0</td>\n",
       "      <td>0.0</td>\n",
       "      <td>2014-11-13 01:49:37</td>\n",
       "      <td>15.116667</td>\n",
       "      <td>11</td>\n",
       "      <td>3</td>\n",
       "      <td>1</td>\n",
       "      <td>1043.0</td>\n",
       "      <td>907.0</td>\n",
       "    </tr>\n",
       "    <tr>\n",
       "      <th>5175</th>\n",
       "      <td>False</td>\n",
       "      <td>True</td>\n",
       "      <td>True</td>\n",
       "      <td>True</td>\n",
       "      <td>True</td>\n",
       "      <td>False</td>\n",
       "      <td>False</td>\n",
       "      <td>False</td>\n",
       "      <td>True</td>\n",
       "      <td>True</td>\n",
       "      <td>...</td>\n",
       "      <td>0.0</td>\n",
       "      <td>0.0</td>\n",
       "      <td>0.0</td>\n",
       "      <td>2014-11-13 01:34:30</td>\n",
       "      <td>0.000000</td>\n",
       "      <td>11</td>\n",
       "      <td>3</td>\n",
       "      <td>1</td>\n",
       "      <td>1950.0</td>\n",
       "      <td>0.0</td>\n",
       "    </tr>\n",
       "  </tbody>\n",
       "</table>\n",
       "<p>5176 rows × 37 columns</p>\n",
       "</div>"
      ],
      "text/plain": [
       "     DiagnosticArtAstrup DiagnosticBlood DiagnosticECG DiagnosticIC  \\\n",
       "0                   True            True          True         True   \n",
       "1                   True            True          True         True   \n",
       "2                   True            True          True         True   \n",
       "3                   True            True          True         True   \n",
       "4                   True            True          True         True   \n",
       "...                  ...             ...           ...          ...   \n",
       "5171               False            True          True         True   \n",
       "5172               False            True          True         True   \n",
       "5173               False            True          True         True   \n",
       "5174               False            True          True         True   \n",
       "5175               False            True          True         True   \n",
       "\n",
       "     DiagnosticLacticAcid DiagnosticLiquor DiagnosticOther DiagnosticSputum  \\\n",
       "0                    True            False           False            False   \n",
       "1                    True            False           False            False   \n",
       "2                    True            False           False            False   \n",
       "3                    True            False           False            False   \n",
       "4                    True            False           False            False   \n",
       "...                   ...              ...             ...              ...   \n",
       "5171                 True            False           False            False   \n",
       "5172                 True            False           False            False   \n",
       "5173                 True            False           False            False   \n",
       "5174                 True            False           False            False   \n",
       "5175                 True            False           False            False   \n",
       "\n",
       "     DiagnosticUrinaryCulture DiagnosticUrinarySediment  ...   CRP LacticAcid  \\\n",
       "0                        True                      True  ...  21.0        2.2   \n",
       "1                        True                      True  ...  21.0        2.2   \n",
       "2                        True                      True  ...  21.0        2.2   \n",
       "3                        True                      True  ...  21.0        2.2   \n",
       "4                        True                      True  ...   0.0        2.2   \n",
       "...                       ...                       ...  ...   ...        ...   \n",
       "5171                     True                      True  ...   0.0        2.6   \n",
       "5172                     True                      True  ...   0.0        2.6   \n",
       "5173                     True                      True  ...   0.0        0.0   \n",
       "5174                     True                      True  ...   0.0        0.0   \n",
       "5175                     True                      True  ...   0.0        0.0   \n",
       "\n",
       "     Leucocytes   Complete Timestamp   duration month weekday hour remtime  \\\n",
       "0           9.6  2014-10-22 19:34:00   0.383333    10       2   19     0.0   \n",
       "1           9.6  2014-10-22 19:33:37   6.616667    10       2   19    23.0   \n",
       "2           9.6  2014-10-22 19:27:00   0.000000    10       2   19   420.0   \n",
       "3           0.0  2014-10-22 19:27:00   0.000000    10       2   19   420.0   \n",
       "4           0.0  2014-10-22 19:27:00  11.316667    10       2   19   420.0   \n",
       "...         ...                  ...        ...   ...     ...  ...     ...   \n",
       "5171       12.5  2014-11-13 02:07:00   0.000000    11       3    2     0.0   \n",
       "5172        0.0  2014-11-13 02:07:00  17.183333    11       3    2     0.0   \n",
       "5173        0.0  2014-11-13 01:49:49   0.200000    11       3    1  1031.0   \n",
       "5174        0.0  2014-11-13 01:49:37  15.116667    11       3    1  1043.0   \n",
       "5175        0.0  2014-11-13 01:34:30   0.000000    11       3    1  1950.0   \n",
       "\n",
       "     elapsed  \n",
       "0     1099.0  \n",
       "1     1076.0  \n",
       "2      679.0  \n",
       "3      679.0  \n",
       "4      679.0  \n",
       "...      ...  \n",
       "5171  1950.0  \n",
       "5172  1950.0  \n",
       "5173   919.0  \n",
       "5174   907.0  \n",
       "5175     0.0  \n",
       "\n",
       "[5176 rows x 37 columns]"
      ]
     },
     "execution_count": 98,
     "metadata": {},
     "output_type": "execute_result"
    }
   ],
   "source": [
    "# Remove rows with empty cells\n",
    "data_Sepsis.dropna()"
   ]
  },
  {
   "cell_type": "code",
   "execution_count": null,
   "id": "84740ad2",
   "metadata": {},
   "outputs": [],
   "source": [
    "# Install pm4py library using pip install -U pm4py\n",
    "import pm4py\n",
    "\n",
    "# Fill in the column names of case id, activity, and time stamps\n",
    "column_Sepsis_CaseID = 'Case ID' \n",
    "column_Sepsis_Activity = 'Activity'\n",
    "column_Sepsis_Timestamps = 'Complete Timestamp'\n",
    "\n",
    "data_Sepsis[column_Sepsis_CaseID] = data_Sepsis[column_Sepsis_CaseID].astype(str)\n",
    "\n",
    "# Convert the data to an event log\n",
    "log_Sepsis = pm4py.format_dataframe(data_Sepsis, case_id=column_Sepsis_CaseID, activity_key=column_Sepsis_Activity, timestamp_key=column_Sepsis_Timestamps)\n",
    "\n",
    "# Set the log to be the one that you are interested\n",
    "log = log_Sepsis\n",
    "\n",
    "# Create a Directly-Follows Graph (DFG) and plot this graph\n",
    "dfg, start_activities, end_activities = pm4py.discover_dfg(log)\n",
    "pm4py.view_dfg(dfg, start_activities, end_activities)\n",
    "\n",
    "# Discover a Process Model using Inductive Miner and plot this BPMN model\n",
    "process_tree = pm4py.discover_tree_inductive(log)\n",
    "bpmn_model = pm4py.convert_to_bpmn(process_tree)\n",
    "pm4py.view_bpmn(bpmn_model)"
   ]
  },
  {
   "attachments": {},
   "cell_type": "markdown",
   "id": "sticky-distinction",
   "metadata": {},
   "source": [
    "## 2. Preprocessing and Trace Encoding\n",
    "\n",
    "\n",
    "### 2.1 Trace Encoding\n",
    "\n",
    "\n",
    "- Implement the last-2-state encoding for the data set \n",
    "- Implement the aggregated encoding for the data set (for example, see [1], Table 6)\n",
    "\n",
    "\n",
    "<span style=\"color:gray\">[1] Ilya Verenich, Marlon Dumas, Marcello La Rosa, Fabrizio Maria Maggi, Irene Teinemaa:\n",
    "Survey and Cross-benchmark Comparison of Remaining Time Prediction Methods in Business Process Monitoring. ACM Trans. Intell. Syst. Technol. 10(4): 34:1-34:34 (2019) [Section 1, 2, 4.1, 4.3, 4.6, 5.2, 5.3, 5.4, and 6] </span>\n",
    "\n",
    "These two encodings are discussed during lecture 7.\n",
    "In case you find difficult to implement the algorithms, you may also consider use the pandas functions to help you:\n",
    "- for the last-2-state encoding, check the pandas groupby.DataFrameGroupBy.shift and see the [answer on the stake overflow](https://stackoverflow.com/questions/53335567/use-pandas-shift-within-a-group)\n",
    "- for the aggregated encoding check the pandas groupby.DataFrameGroupBy and cumsum function and read the [examples and answers on the stake overflow](https://stackoverflow.com/a/49578219)"
   ]
  },
  {
   "cell_type": "code",
   "execution_count": null,
   "id": "2907b1e8",
   "metadata": {},
   "outputs": [],
   "source": [
    "from sklearn.preprocessing import LabelEncoder, MinMaxScaler\n",
    "\n",
    "# Data transformation\n",
    "exclude = ['Case ID', 'Activity', 'remtime']\n",
    "categorical_values = data_Sepsis[data_Sepsis.columns.difference(exclude)].select_dtypes(include=['object']).columns\n",
    "dimensions = data_Sepsis[data_Sepsis.columns.difference(exclude)].columns\n",
    "\n",
    "# Transform categorical labels\n",
    "for col in categorical_values:\n",
    "    data_Sepsis[col] = LabelEncoder().fit_transform(data_Sepsis[col])\n",
    "\n",
    "# Normalize columns\n",
    "data_Sepsis[dimensions] = MinMaxScaler().fit_transform(data_Sepsis[dimensions])"
   ]
  },
  {
   "cell_type": "code",
   "execution_count": 4,
   "id": "282e0214",
   "metadata": {},
   "outputs": [],
   "source": [
    "def last_2_state_encoding(_data, columnCase: str, columnActivity: str):\n",
    "    \"\"\"\n",
    "    This function returns a trace encoded dataframe using last 2 state encoding.\n",
    "    It does this by executing the following steps:\n",
    "    1. Loop through the cases in the dataframe\n",
    "    2. Sort the dataframe based on remaining time\n",
    "    3. Add a previous state column to the dataframe\n",
    "    4. Use one-hot-encoding for the columns\n",
    "    \"\"\"\n",
    "    new_log = pd.DataFrame()\n",
    "    for idx, df in _data.groupby(columnCase):\n",
    "        df = df.sort_values('remtime', ascending=False)\n",
    "        df['prev_state'] = df[columnActivity].shift()\n",
    "        dummies = pd.get_dummies(df[[columnActivity, 'prev_state']], drop_first=True)\n",
    "        df = df.join(dummies).drop([columnActivity, 'prev_state'], axis=1)\n",
    "        new_log = pd.concat([new_log, df])\n",
    "    new_log.index = new_log[columnCase]\n",
    "    new_log = new_log.drop(columnCase, axis=1)\n",
    "    new_log.fillna(0, inplace=True)\n",
    "    return new_log\n",
    "\n",
    "def agg_state_encoding(_data, columnCase: str, columnActivity: str):\n",
    "    \"\"\"\n",
    "    This function returns a trace encoded dataframe using aggregated state encoding.\n",
    "    It does this by executing the following steps:\n",
    "    1. Loop through the cases in the dataframe\n",
    "    2. Sort the dataframe based on remaining time\n",
    "    3. One-hot-encode the activities\n",
    "    4. Calculate the cumulative sum per activity\n",
    "    \"\"\"\n",
    "    new_log = pd.DataFrame()\n",
    "    for idx, df in _data.groupby(columnCase):\n",
    "        df = df.sort_values('remtime', ascending=False)\n",
    "        log = df[df.columns.difference([columnActivity])].copy()\n",
    "        dummies = pd.get_dummies(df[columnActivity], drop_first=True)\n",
    "        for activity in dummies.columns:\n",
    "            log[activity] = dummies[activity].cumsum()\n",
    "        new_log = pd.concat([new_log, log])\n",
    "    new_log.index = new_log[columnCase]\n",
    "    new_log = new_log.drop(columnCase, axis=1)\n",
    "    new_log.fillna(0, inplace=True)\n",
    "    return new_log"
   ]
  },
  {
   "cell_type": "code",
   "execution_count": 5,
   "id": "8303a0b5",
   "metadata": {},
   "outputs": [],
   "source": [
    "# For each of the two data sets, create a last_2_state encoding and an aggregated state encoding\n",
    "data_Sepsis_ls = last_2_state_encoding(data_Sepsis, 'Case ID', 'Activity')\n",
    "data_Sepsis_ag = agg_state_encoding(data_Sepsis, 'Case ID', 'Activity')"
   ]
  },
  {
   "attachments": {},
   "cell_type": "markdown",
   "id": "rolled-complaint",
   "metadata": {},
   "source": [
    "### 2.2 Create Training and Held-out test data sets\n",
    "\n",
    "\n",
    "Create a training and a held-out test data set. *Later in Task 3-4, the training data will be used to perform cross-validation. The held-out test data will be used to evaluate the performance of the selected models.*\n",
    "\n",
    "Choose the size of your test data. Furthermore, how did you split the data? Motivate your choice when you discuss the experiment setup in your report. "
   ]
  },
  {
   "cell_type": "code",
   "execution_count": 6,
   "id": "prospective-little",
   "metadata": {},
   "outputs": [],
   "source": [
    "from sklearn.model_selection import train_test_split\n",
    "\n",
    "# Create training data and held-out test data for *data_Sepsis_ls*\n",
    "X_train_ls,  X_test_ls, y_train_ls, y_test_ls = train_test_split(\n",
    "    data_Sepsis_ls.drop('remtime', axis=1),\n",
    "    data_Sepsis_ls['remtime'],\n",
    "    test_size=0.33, random_state=42\n",
    ")\n",
    "\n",
    "# Create training data and held-out test data for *data_Sepsis_ag*\n",
    "X_train_ag, X_test_ag, y_train_ag, y_test_ag = train_test_split(\n",
    "    data_Sepsis_ag.drop('remtime', axis=1),\n",
    "    data_Sepsis_ag['remtime'],\n",
    "    test_size=0.33, random_state=42\n",
    ")"
   ]
  },
  {
   "attachments": {},
   "cell_type": "markdown",
   "id": "chief-quantum",
   "metadata": {},
   "source": [
    "## 3. Predicting Case Remaining Time - Regression Trees\n",
    "\n",
    "\n",
    "In this task, you will use the regression tree (or random forest regression if you prefer) to learn a regression model to predict case remaining time. Very similar to how you have trained a classification model in Assignment 1, now perform the following steps to train a regression model. \n",
    "\n",
    "i) use the default values for the parameters to get a [Regression Tree](https://scikit-learn.org/stable/modules/generated/sklearn.tree.DecisionTreeRegressor.html#sklearn.tree.DecisionTreeRegressor) (or a [Random Forest Regressor](https://scikit-learn.org/stable/modules/generated/sklearn.ensemble.RandomForestRegressor.html)) running on the training data. (*Optional: visualize the tree, the feature importance, and compute the error measures to get an impression of the performance of the model*).\n",
    "\n",
    "ii) use 10-fold cross-validation to determine a possibly better choice for the two parameters *min_samples_leaf* and *max_depth*\n",
    "    \n",
    "iii) create 2D or 3D plot that shows how the selected parameters affect the performance. \n",
    "\n",
    "iv) select the best-performing regression tree (or forest), i.e., the one that achieved the lowest cross-validated errors, and report all the error measures (MAE, MSE, RMSE, R^2) of the fitted model on the held-out test data. "
   ]
  },
  {
   "cell_type": "markdown",
   "id": "37c078af",
   "metadata": {},
   "source": [
    "## Default decision tree"
   ]
  },
  {
   "cell_type": "code",
   "execution_count": 84,
   "id": "84995317",
   "metadata": {},
   "outputs": [
    {
     "name": "stdout",
     "output_type": "stream",
     "text": [
      "The MAE for the last_2_state encoded dataframe with the default decision tree model is: 1293.7998829724986\n",
      "The MAE for the agregate encoded dataframe with the default decision tree model is: 1016.0830895260386\n"
     ]
    },
    {
     "data": {
      "image/png": "[encoded data removed]",
      "text/plain": [
       "<Figure size 432x288 with 1 Axes>"
      ]
     },
     "metadata": {},
     "output_type": "display_data"
    },
    {
     "data": {
      "image/png": "[encoded data removed]",
      "text/plain": [
       "<Figure size 432x288 with 1 Axes>"
      ]
     },
     "metadata": {},
     "output_type": "display_data"
    }
   ],
   "source": [
    "from sklearn.tree import DecisionTreeRegressor\n",
    "from sklearn.metrics import mean_absolute_error\n",
    "\n",
    "# Train a default model\n",
    "regressor_ls = DecisionTreeRegressor().fit(X_train_ls, y_train_ls)\n",
    "regressor_ag = DecisionTreeRegressor().fit(X_train_ag, y_train_ag)\n",
    "\n",
    "# Calculate the mean absolute error per regressor\n",
    "mae_ls = mean_absolute_error(y_test_ls, regressor_ls.predict(X_test_ls))\n",
    "mae_ag = mean_absolute_error(y_test_ag, regressor_ag.predict(X_test_ag))\n",
    "\n",
    "# Print the result\n",
    "print(\"The MAE for the last_2_state encoded dataframe with the default decision tree model is: {}\".format(mae_ls))\n",
    "print(\"The MAE for the agregate encoded dataframe with the default decision tree model is: {}\".format(mae_ag))\n",
    "\n",
    "# Grab feature importance value from last state model\n",
    "feature_importances = regressor_ls.feature_importances_\n",
    "features = pd.Series(feature_importances, index=X_train_ls.columns)\n",
    "top_features = features.nlargest(5)\n",
    "top_features.plot(kind='barh', title='Feature importance in last state encoded data set', grid=False)\n",
    "plt.show()\n",
    "\n",
    "# Grab feature importance value from aggregated state model\n",
    "feature_importances = regressor_ag.feature_importances_\n",
    "features = pd.Series(feature_importances, index=X_train_ag.columns)\n",
    "top_features = features.nlargest(5)\n",
    "top_features.plot(kind='barh', title='Feature importance in aggregated state encoded data set', grid=False)\n",
    "plt.show()"
   ]
  },
  {
   "cell_type": "markdown",
   "id": "468b206e",
   "metadata": {},
   "source": [
    "## Decision tree regression with Last-2-State Encoding"
   ]
  },
  {
   "cell_type": "code",
   "execution_count": 88,
   "id": "raising-saturn",
   "metadata": {},
   "outputs": [
    {
     "name": "stdout",
     "output_type": "stream",
     "text": [
      "\n",
      "\u001b[1mThe optimal parameters based on MAE is:\u001b[0m\n",
      "max_depth: 4 \n",
      "min_samples_leaf: 1\n"
     ]
    },
    {
     "data": {
      "application/vnd.plotly.v1+json": {
       "config": {
        "plotlyServerURL": "https://plot.ly"
       },
       "data": [
        {
         "mode": "lines+markers",
         "name": "Train",
         "type": "scatter",
         "x": [
          2,
          3,
          4,
          5,
          6,
          7
         ],
         "y": [
          1186.3473814305612,
          1148.4738099187762,
          1141.0862079273318,
          1147.103966988539,
          1150.0158465535283,
          1155.7722213471336
         ]
        },
        {
         "mode": "lines+markers",
         "name": "Test",
         "type": "scatter",
         "x": [
          2,
          3,
          4,
          5,
          6,
          7
         ],
         "y": [
          1168.5143846421956,
          1137.6404577551184,
          1139.745650833173,
          1140.8136624842214,
          1134.7766771601996,
          1141.2964948879257
         ]
        }
       ],
       "layout": {
        "template": {
         "data": {
          "bar": [
           {
            "error_x": {
             "color": "#2a3f5f"
            },
            "error_y": {
             "color": "#2a3f5f"
            },
            "marker": {
             "line": {
              "color": "#E5ECF6",
              "width": 0.5
             }
            },
            "type": "bar"
           }
          ],
          "barpolar": [
           {
            "marker": {
             "line": {
              "color": "#E5ECF6",
              "width": 0.5
             }
            },
            "type": "barpolar"
           }
          ],
          "carpet": [
           {
            "aaxis": {
             "endlinecolor": "#2a3f5f",
             "gridcolor": "white",
             "linecolor": "white",
             "minorgridcolor": "white",
             "startlinecolor": "#2a3f5f"
            },
            "baxis": {
             "endlinecolor": "#2a3f5f",
             "gridcolor": "white",
             "linecolor": "white",
             "minorgridcolor": "white",
             "startlinecolor": "#2a3f5f"
            },
            "type": "carpet"
           }
          ],
          "choropleth": [
           {
            "colorbar": {
             "outlinewidth": 0,
             "ticks": ""
            },
            "type": "choropleth"
           }
          ],
          "contour": [
           {
            "colorbar": {
             "outlinewidth": 0,
             "ticks": ""
            },
            "colorscale": [
             [
              0,
              "#0d0887"
             ],
             [
              0.1111111111111111,
              "#46039f"
             ],
             [
              0.2222222222222222,
              "#7201a8"
             ],
             [
              0.3333333333333333,
              "#9c179e"
             ],
             [
              0.4444444444444444,
              "#bd3786"
             ],
             [
              0.5555555555555556,
              "#d8576b"
             ],
             [
              0.6666666666666666,
              "#ed7953"
             ],
             [
              0.7777777777777778,
              "#fb9f3a"
             ],
             [
              0.8888888888888888,
              "#fdca26"
             ],
             [
              1,
              "#f0f921"
             ]
            ],
            "type": "contour"
           }
          ],
          "contourcarpet": [
           {
            "colorbar": {
             "outlinewidth": 0,
             "ticks": ""
            },
            "type": "contourcarpet"
           }
          ],
          "heatmap": [
           {
            "colorbar": {
             "outlinewidth": 0,
             "ticks": ""
            },
            "colorscale": [
             [
              0,
              "#0d0887"
             ],
             [
              0.1111111111111111,
              "#46039f"
             ],
             [
              0.2222222222222222,
              "#7201a8"
             ],
             [
              0.3333333333333333,
              "#9c179e"
             ],
             [
              0.4444444444444444,
              "#bd3786"
             ],
             [
              0.5555555555555556,
              "#d8576b"
             ],
             [
              0.6666666666666666,
              "#ed7953"
             ],
             [
              0.7777777777777778,
              "#fb9f3a"
             ],
             [
              0.8888888888888888,
              "#fdca26"
             ],
             [
              1,
              "#f0f921"
             ]
            ],
            "type": "heatmap"
           }
          ],
          "heatmapgl": [
           {
            "colorbar": {
             "outlinewidth": 0,
             "ticks": ""
            },
            "colorscale": [
             [
              0,
              "#0d0887"
             ],
             [
              0.1111111111111111,
              "#46039f"
             ],
             [
              0.2222222222222222,
              "#7201a8"
             ],
             [
              0.3333333333333333,
              "#9c179e"
             ],
             [
              0.4444444444444444,
              "#bd3786"
             ],
             [
              0.5555555555555556,
              "#d8576b"
             ],
             [
              0.6666666666666666,
              "#ed7953"
             ],
             [
              0.7777777777777778,
              "#fb9f3a"
             ],
             [
              0.8888888888888888,
              "#fdca26"
             ],
             [
              1,
              "#f0f921"
             ]
            ],
            "type": "heatmapgl"
           }
          ],
          "histogram": [
           {
            "marker": {
             "colorbar": {
              "outlinewidth": 0,
              "ticks": ""
             }
            },
            "type": "histogram"
           }
          ],
          "histogram2d": [
           {
            "colorbar": {
             "outlinewidth": 0,
             "ticks": ""
            },
            "colorscale": [
             [
              0,
              "#0d0887"
             ],
             [
              0.1111111111111111,
              "#46039f"
             ],
             [
              0.2222222222222222,
              "#7201a8"
             ],
             [
              0.3333333333333333,
              "#9c179e"
             ],
             [
              0.4444444444444444,
              "#bd3786"
             ],
             [
              0.5555555555555556,
              "#d8576b"
             ],
             [
              0.6666666666666666,
              "#ed7953"
             ],
             [
              0.7777777777777778,
              "#fb9f3a"
             ],
             [
              0.8888888888888888,
              "#fdca26"
             ],
             [
              1,
              "#f0f921"
             ]
            ],
            "type": "histogram2d"
           }
          ],
          "histogram2dcontour": [
           {
            "colorbar": {
             "outlinewidth": 0,
             "ticks": ""
            },
            "colorscale": [
             [
              0,
              "#0d0887"
             ],
             [
              0.1111111111111111,
              "#46039f"
             ],
             [
              0.2222222222222222,
              "#7201a8"
             ],
             [
              0.3333333333333333,
              "#9c179e"
             ],
             [
              0.4444444444444444,
              "#bd3786"
             ],
             [
              0.5555555555555556,
              "#d8576b"
             ],
             [
              0.6666666666666666,
              "#ed7953"
             ],
             [
              0.7777777777777778,
              "#fb9f3a"
             ],
             [
              0.8888888888888888,
              "#fdca26"
             ],
             [
              1,
              "#f0f921"
             ]
            ],
            "type": "histogram2dcontour"
           }
          ],
          "mesh3d": [
           {
            "colorbar": {
             "outlinewidth": 0,
             "ticks": ""
            },
            "type": "mesh3d"
           }
          ],
          "parcoords": [
           {
            "line": {
             "colorbar": {
              "outlinewidth": 0,
              "ticks": ""
             }
            },
            "type": "parcoords"
           }
          ],
          "pie": [
           {
            "automargin": true,
            "type": "pie"
           }
          ],
          "scatter": [
           {
            "marker": {
             "colorbar": {
              "outlinewidth": 0,
              "ticks": ""
             }
            },
            "type": "scatter"
           }
          ],
          "scatter3d": [
           {
            "line": {
             "colorbar": {
              "outlinewidth": 0,
              "ticks": ""
             }
            },
            "marker": {
             "colorbar": {
              "outlinewidth": 0,
              "ticks": ""
             }
            },
            "type": "scatter3d"
           }
          ],
          "scattercarpet": [
           {
            "marker": {
             "colorbar": {
              "outlinewidth": 0,
              "ticks": ""
             }
            },
            "type": "scattercarpet"
           }
          ],
          "scattergeo": [
           {
            "marker": {
             "colorbar": {
              "outlinewidth": 0,
              "ticks": ""
             }
            },
            "type": "scattergeo"
           }
          ],
          "scattergl": [
           {
            "marker": {
             "colorbar": {
              "outlinewidth": 0,
              "ticks": ""
             }
            },
            "type": "scattergl"
           }
          ],
          "scattermapbox": [
           {
            "marker": {
             "colorbar": {
              "outlinewidth": 0,
              "ticks": ""
             }
            },
            "type": "scattermapbox"
           }
          ],
          "scatterpolar": [
           {
            "marker": {
             "colorbar": {
              "outlinewidth": 0,
              "ticks": ""
             }
            },
            "type": "scatterpolar"
           }
          ],
          "scatterpolargl": [
           {
            "marker": {
             "colorbar": {
              "outlinewidth": 0,
              "ticks": ""
             }
            },
            "type": "scatterpolargl"
           }
          ],
          "scatterternary": [
           {
            "marker": {
             "colorbar": {
              "outlinewidth": 0,
              "ticks": ""
             }
            },
            "type": "scatterternary"
           }
          ],
          "surface": [
           {
            "colorbar": {
             "outlinewidth": 0,
             "ticks": ""
            },
            "colorscale": [
             [
              0,
              "#0d0887"
             ],
             [
              0.1111111111111111,
              "#46039f"
             ],
             [
              0.2222222222222222,
              "#7201a8"
             ],
             [
              0.3333333333333333,
              "#9c179e"
             ],
             [
              0.4444444444444444,
              "#bd3786"
             ],
             [
              0.5555555555555556,
              "#d8576b"
             ],
             [
              0.6666666666666666,
              "#ed7953"
             ],
             [
              0.7777777777777778,
              "#fb9f3a"
             ],
             [
              0.8888888888888888,
              "#fdca26"
             ],
             [
              1,
              "#f0f921"
             ]
            ],
            "type": "surface"
           }
          ],
          "table": [
           {
            "cells": {
             "fill": {
              "color": "#EBF0F8"
             },
             "line": {
              "color": "white"
             }
            },
            "header": {
             "fill": {
              "color": "#C8D4E3"
             },
             "line": {
              "color": "white"
             }
            },
            "type": "table"
           }
          ]
         },
         "layout": {
          "annotationdefaults": {
           "arrowcolor": "#2a3f5f",
           "arrowhead": 0,
           "arrowwidth": 1
          },
          "autotypenumbers": "strict",
          "coloraxis": {
           "colorbar": {
            "outlinewidth": 0,
            "ticks": ""
           }
          },
          "colorscale": {
           "diverging": [
            [
             0,
             "#8e0152"
            ],
            [
             0.1,
             "#c51b7d"
            ],
            [
             0.2,
             "#de77ae"
            ],
            [
             0.3,
             "#f1b6da"
            ],
            [
             0.4,
             "#fde0ef"
            ],
            [
             0.5,
             "#f7f7f7"
            ],
            [
             0.6,
             "#e6f5d0"
            ],
            [
             0.7,
             "#b8e186"
            ],
            [
             0.8,
             "#7fbc41"
            ],
            [
             0.9,
             "#4d9221"
            ],
            [
             1,
             "#276419"
            ]
           ],
           "sequential": [
            [
             0,
             "#0d0887"
            ],
            [
             0.1111111111111111,
             "#46039f"
            ],
            [
             0.2222222222222222,
             "#7201a8"
            ],
            [
             0.3333333333333333,
             "#9c179e"
            ],
            [
             0.4444444444444444,
             "#bd3786"
            ],
            [
             0.5555555555555556,
             "#d8576b"
            ],
            [
             0.6666666666666666,
             "#ed7953"
            ],
            [
             0.7777777777777778,
             "#fb9f3a"
            ],
            [
             0.8888888888888888,
             "#fdca26"
            ],
            [
             1,
             "#f0f921"
            ]
           ],
           "sequentialminus": [
            [
             0,
             "#0d0887"
            ],
            [
             0.1111111111111111,
             "#46039f"
            ],
            [
             0.2222222222222222,
             "#7201a8"
            ],
            [
             0.3333333333333333,
             "#9c179e"
            ],
            [
             0.4444444444444444,
             "#bd3786"
            ],
            [
             0.5555555555555556,
             "#d8576b"
            ],
            [
             0.6666666666666666,
             "#ed7953"
            ],
            [
             0.7777777777777778,
             "#fb9f3a"
            ],
            [
             0.8888888888888888,
             "#fdca26"
            ],
            [
             1,
             "#f0f921"
            ]
           ]
          },
          "colorway": [
           "#636efa",
           "#EF553B",
           "#00cc96",
           "#ab63fa",
           "#FFA15A",
           "#19d3f3",
           "#FF6692",
           "#B6E880",
           "#FF97FF",
           "#FECB52"
          ],
          "font": {
           "color": "#2a3f5f"
          },
          "geo": {
           "bgcolor": "white",
           "lakecolor": "white",
           "landcolor": "#E5ECF6",
           "showlakes": true,
           "showland": true,
           "subunitcolor": "white"
          },
          "hoverlabel": {
           "align": "left"
          },
          "hovermode": "closest",
          "mapbox": {
           "style": "light"
          },
          "paper_bgcolor": "white",
          "plot_bgcolor": "#E5ECF6",
          "polar": {
           "angularaxis": {
            "gridcolor": "white",
            "linecolor": "white",
            "ticks": ""
           },
           "bgcolor": "#E5ECF6",
           "radialaxis": {
            "gridcolor": "white",
            "linecolor": "white",
            "ticks": ""
           }
          },
          "scene": {
           "xaxis": {
            "backgroundcolor": "#E5ECF6",
            "gridcolor": "white",
            "gridwidth": 2,
            "linecolor": "white",
            "showbackground": true,
            "ticks": "",
            "zerolinecolor": "white"
           },
           "yaxis": {
            "backgroundcolor": "#E5ECF6",
            "gridcolor": "white",
            "gridwidth": 2,
            "linecolor": "white",
            "showbackground": true,
            "ticks": "",
            "zerolinecolor": "white"
           },
           "zaxis": {
            "backgroundcolor": "#E5ECF6",
            "gridcolor": "white",
            "gridwidth": 2,
            "linecolor": "white",
            "showbackground": true,
            "ticks": "",
            "zerolinecolor": "white"
           }
          },
          "shapedefaults": {
           "line": {
            "color": "#2a3f5f"
           }
          },
          "ternary": {
           "aaxis": {
            "gridcolor": "white",
            "linecolor": "white",
            "ticks": ""
           },
           "baxis": {
            "gridcolor": "white",
            "linecolor": "white",
            "ticks": ""
           },
           "bgcolor": "#E5ECF6",
           "caxis": {
            "gridcolor": "white",
            "linecolor": "white",
            "ticks": ""
           }
          },
          "title": {
           "x": 0.05
          },
          "xaxis": {
           "automargin": true,
           "gridcolor": "white",
           "linecolor": "white",
           "ticks": "",
           "title": {
            "standoff": 15
           },
           "zerolinecolor": "white",
           "zerolinewidth": 2
          },
          "yaxis": {
           "automargin": true,
           "gridcolor": "white",
           "linecolor": "white",
           "ticks": "",
           "title": {
            "standoff": 15
           },
           "zerolinecolor": "white",
           "zerolinewidth": 2
          }
         }
        },
        "title": {
         "text": "2D plot parameter influence - last-2-state encoding"
        },
        "xaxis": {
         "title": {
          "text": "max_depth Decision tree"
         }
        },
        "yaxis": {
         "title": {
          "text": "MAE"
         }
        }
       }
      }
     },
     "metadata": {},
     "output_type": "display_data"
    },
    {
     "data": {
      "image/png": "[encoded data removed]",
      "text/plain": [
       "<Figure size 1152x864 with 1 Axes>"
      ]
     },
     "metadata": {},
     "output_type": "display_data"
    },
    {
     "name": "stdout",
     "output_type": "stream",
     "text": [
      "\n",
      "\u001b[1m\n",
      "The performance of the model on the heldout data is:\u001b[0m \n",
      "MSE: 7607167.0339785945\n",
      "r2_score: 0.3363552543649587\n",
      "MAE: 1116.2492593470517\n",
      "RMSE: 7607167.0339785945\n"
     ]
    }
   ],
   "source": [
    "# Import packages\n",
    "import plotly.express as px\n",
    "import numpy as np\n",
    "from sklearn.metrics import mean_absolute_error, r2_score, mean_squared_error\n",
    "from sklearn.model_selection import KFold\n",
    "import plotly.graph_objects as go\n",
    "\n",
    "# Define the K folds\n",
    "nk = 10\n",
    "kf = KFold(n_splits=nk, random_state=0, shuffle=True)\n",
    "\n",
    "# Set the search space of the parameters min_samples_leaf and max_depth\n",
    "max_depths_range = np.arange(2, 8)\n",
    "samples_leaf_range = np.arange(1, 50, 10)\n",
    "\n",
    "# Set the grid to save MAE for each parameter combination\n",
    "training_MAE = np.zeros((nk , len(max_depths_range), len(samples_leaf_range)))\n",
    "test_MAE = np.zeros((nk , len(max_depths_range), len(samples_leaf_range)))\n",
    "\n",
    "# Loop through parameter ranges and calculate MAE\n",
    "i = 0 # KFold counter\n",
    "for train_index , val_index in kf.split(X_train_ls):\n",
    "    X_t, X_val = X_train_ls.iloc[train_index], X_train_ls.iloc[val_index]\n",
    "    y_t, y_val = y_train_ls.iloc[train_index], y_train_ls.iloc[val_index]\n",
    "    j = 0 # max_depth counter\n",
    "    for depth in max_depths_range:\n",
    "        k = 0 # min_samples counter\n",
    "        for samples in samples_leaf_range:\n",
    "            # Train the decision tree with the parameter combination\n",
    "            dtree_clf = DecisionTreeRegressor(min_samples_leaf=samples, max_depth=depth)\n",
    "            dtree_clf.fit(X_t, y_t)\n",
    "            # Calculate the MAE on the validation data\n",
    "            y_pred = dtree_clf.predict(X_val)\n",
    "            training_MAE[i][j][k] = mean_absolute_error(y_val, y_pred)\n",
    "            # Make predictions for the test data\n",
    "            test_prediction = dtree_clf.predict(X_test_ls)\n",
    "            test_MAE[i][j][k] = mean_absolute_error(y_test_ls, test_prediction)\n",
    "            k += 1\n",
    "        j += 1\n",
    "    i += 1\n",
    "\n",
    "# Get the index of the highest MAE from the MAE grid and translate it to optimal parameters\n",
    "depth_index, samples_index = list(np.unravel_index(np.argmin(np.mean(training_MAE, axis=0)), np.array(training_MAE).shape))[1:]\n",
    "best_max_depth, best_sample_leafs = max_depths_range[depth_index], samples_leaf_range[samples_index]\n",
    "\n",
    "print(\n",
    "    '\\n\\033[1m' + 'The optimal parameters based on MAE is:' + '\\033[0m' + '\\nmax_depth: {} \\nmin_samples_leaf: {}'\n",
    "    .format(\n",
    "        best_max_depth,\n",
    "        best_sample_leafs\n",
    "    ))\n",
    "\n",
    "# Plot 2d graph showing the influence of max_depth on training and testing MAE\n",
    "fig = go.Figure()\n",
    "fig.add_trace(go.Scatter(x=max_depths_range, y=np.mean(np.mean(training_MAE , axis = 0), axis=1), mode='lines+markers', name='Train')) \n",
    "fig.add_trace(go.Scatter(x=max_depths_range, y=np.mean(np.mean(test_MAE , axis = 0), axis=1), mode='lines+markers', name='Test'))\n",
    "fig.update_layout(\n",
    "    title=\"2D plot parameter influence - last-2-state encoding\",\n",
    "    xaxis_title=\"max_depth Decision tree\",\n",
    "    yaxis_title=\"MAE\"\n",
    ")\n",
    "fig.show()\n",
    "\n",
    "# Create a dataframe of the cross validated accuracies based on parameter combinations\n",
    "plotting_data = pd.DataFrame(data={\n",
    "    'max_depth': [depth for depth in max_depths_range for n_leaf in range(len(samples_leaf_range))],\n",
    "    'min_samples_leaf': np.tile(samples_leaf_range, len(max_depths_range)),\n",
    "    'MAE': np.mean(training_MAE, axis=0).flatten(), # Take mean f1 of cross validations and flatten it\n",
    "})\n",
    "\n",
    "# Create 3D plot to show how the selected parameters affect the performance\n",
    "fig = plt.figure(figsize=(16, 12))\n",
    "plot = fig.add_subplot(projection='3d')\n",
    "plot.scatter(plotting_data['max_depth'], plotting_data['min_samples_leaf'], plotting_data['MAE'])\n",
    "plot.set_xlabel('max_depth')\n",
    "plot.set_ylabel('min_samples_leaf')\n",
    "plot.set_zlabel('MAE')\n",
    "plt.title(label=\"3D plot parameter influence\", fontsize=28)\n",
    "plt.show()\n",
    "\n",
    "# Compute the performance of the model on your held-out test data\n",
    "prediction = DecisionTreeRegressor(min_samples_leaf=best_sample_leafs, max_depth=best_max_depth).fit(X_train_ls, y_train_ls).predict(X_test_ls)\n",
    "\n",
    "print(\n",
    "    '\\n\\033[1m' +'\\nThe performance of the model on the heldout data is:' + '\\033[0m' +' \\nMSE: {}\\nr2_score: {}\\nMAE: {}\\nRMSE: {}'\n",
    "    .format(\n",
    "        mean_squared_error(y_test_ls, prediction),\n",
    "        r2_score(y_test_ls, prediction),\n",
    "        mean_absolute_error(y_test_ls, prediction),\n",
    "        mean_squared_error(y_test_ls, prediction, squared=True)\n",
    "    )\n",
    ")"
   ]
  },
  {
   "cell_type": "markdown",
   "id": "931da221",
   "metadata": {},
   "source": [
    "## Decision tree regression with Aggregate-State Encoding"
   ]
  },
  {
   "cell_type": "code",
   "execution_count": 41,
   "id": "8f111c3b",
   "metadata": {},
   "outputs": [
    {
     "name": "stdout",
     "output_type": "stream",
     "text": [
      "\n",
      "\u001b[1mThe optimal parameters based on MAE is:\u001b[0m\n",
      "max_depth: 7 \n",
      "min_samples_leaf: 1\n"
     ]
    },
    {
     "data": {
      "application/vnd.plotly.v1+json": {
       "config": {
        "plotlyServerURL": "https://plot.ly"
       },
       "data": [
        {
         "mode": "lines+markers",
         "name": "Train",
         "type": "scatter",
         "x": [
          2,
          3,
          4,
          5,
          6,
          7
         ],
         "y": [
          1139.0866902049675,
          1074.3034801002887,
          1073.7193628763207,
          1037.9647759804088,
          975.5868870531825,
          967.5058262918965
         ]
        },
        {
         "mode": "lines+markers",
         "name": "Test",
         "type": "scatter",
         "x": [
          2,
          3,
          4,
          5,
          6,
          7
         ],
         "y": [
          1107.3283171842147,
          1055.9252960554113,
          1062.783951403548,
          1020.5438644337464,
          975.6083440728229,
          965.2719995386263
         ]
        }
       ],
       "layout": {
        "template": {
         "data": {
          "bar": [
           {
            "error_x": {
             "color": "#2a3f5f"
            },
            "error_y": {
             "color": "#2a3f5f"
            },
            "marker": {
             "line": {
              "color": "#E5ECF6",
              "width": 0.5
             }
            },
            "type": "bar"
           }
          ],
          "barpolar": [
           {
            "marker": {
             "line": {
              "color": "#E5ECF6",
              "width": 0.5
             }
            },
            "type": "barpolar"
           }
          ],
          "carpet": [
           {
            "aaxis": {
             "endlinecolor": "#2a3f5f",
             "gridcolor": "white",
             "linecolor": "white",
             "minorgridcolor": "white",
             "startlinecolor": "#2a3f5f"
            },
            "baxis": {
             "endlinecolor": "#2a3f5f",
             "gridcolor": "white",
             "linecolor": "white",
             "minorgridcolor": "white",
             "startlinecolor": "#2a3f5f"
            },
            "type": "carpet"
           }
          ],
          "choropleth": [
           {
            "colorbar": {
             "outlinewidth": 0,
             "ticks": ""
            },
            "type": "choropleth"
           }
          ],
          "contour": [
           {
            "colorbar": {
             "outlinewidth": 0,
             "ticks": ""
            },
            "colorscale": [
             [
              0,
              "#0d0887"
             ],
             [
              0.1111111111111111,
              "#46039f"
             ],
             [
              0.2222222222222222,
              "#7201a8"
             ],
             [
              0.3333333333333333,
              "#9c179e"
             ],
             [
              0.4444444444444444,
              "#bd3786"
             ],
             [
              0.5555555555555556,
              "#d8576b"
             ],
             [
              0.6666666666666666,
              "#ed7953"
             ],
             [
              0.7777777777777778,
              "#fb9f3a"
             ],
             [
              0.8888888888888888,
              "#fdca26"
             ],
             [
              1,
              "#f0f921"
             ]
            ],
            "type": "contour"
           }
          ],
          "contourcarpet": [
           {
            "colorbar": {
             "outlinewidth": 0,
             "ticks": ""
            },
            "type": "contourcarpet"
           }
          ],
          "heatmap": [
           {
            "colorbar": {
             "outlinewidth": 0,
             "ticks": ""
            },
            "colorscale": [
             [
              0,
              "#0d0887"
             ],
             [
              0.1111111111111111,
              "#46039f"
             ],
             [
              0.2222222222222222,
              "#7201a8"
             ],
             [
              0.3333333333333333,
              "#9c179e"
             ],
             [
              0.4444444444444444,
              "#bd3786"
             ],
             [
              0.5555555555555556,
              "#d8576b"
             ],
             [
              0.6666666666666666,
              "#ed7953"
             ],
             [
              0.7777777777777778,
              "#fb9f3a"
             ],
             [
              0.8888888888888888,
              "#fdca26"
             ],
             [
              1,
              "#f0f921"
             ]
            ],
            "type": "heatmap"
           }
          ],
          "heatmapgl": [
           {
            "colorbar": {
             "outlinewidth": 0,
             "ticks": ""
            },
            "colorscale": [
             [
              0,
              "#0d0887"
             ],
             [
              0.1111111111111111,
              "#46039f"
             ],
             [
              0.2222222222222222,
              "#7201a8"
             ],
             [
              0.3333333333333333,
              "#9c179e"
             ],
             [
              0.4444444444444444,
              "#bd3786"
             ],
             [
              0.5555555555555556,
              "#d8576b"
             ],
             [
              0.6666666666666666,
              "#ed7953"
             ],
             [
              0.7777777777777778,
              "#fb9f3a"
             ],
             [
              0.8888888888888888,
              "#fdca26"
             ],
             [
              1,
              "#f0f921"
             ]
            ],
            "type": "heatmapgl"
           }
          ],
          "histogram": [
           {
            "marker": {
             "colorbar": {
              "outlinewidth": 0,
              "ticks": ""
             }
            },
            "type": "histogram"
           }
          ],
          "histogram2d": [
           {
            "colorbar": {
             "outlinewidth": 0,
             "ticks": ""
            },
            "colorscale": [
             [
              0,
              "#0d0887"
             ],
             [
              0.1111111111111111,
              "#46039f"
             ],
             [
              0.2222222222222222,
              "#7201a8"
             ],
             [
              0.3333333333333333,
              "#9c179e"
             ],
             [
              0.4444444444444444,
              "#bd3786"
             ],
             [
              0.5555555555555556,
              "#d8576b"
             ],
             [
              0.6666666666666666,
              "#ed7953"
             ],
             [
              0.7777777777777778,
              "#fb9f3a"
             ],
             [
              0.8888888888888888,
              "#fdca26"
             ],
             [
              1,
              "#f0f921"
             ]
            ],
            "type": "histogram2d"
           }
          ],
          "histogram2dcontour": [
           {
            "colorbar": {
             "outlinewidth": 0,
             "ticks": ""
            },
            "colorscale": [
             [
              0,
              "#0d0887"
             ],
             [
              0.1111111111111111,
              "#46039f"
             ],
             [
              0.2222222222222222,
              "#7201a8"
             ],
             [
              0.3333333333333333,
              "#9c179e"
             ],
             [
              0.4444444444444444,
              "#bd3786"
             ],
             [
              0.5555555555555556,
              "#d8576b"
             ],
             [
              0.6666666666666666,
              "#ed7953"
             ],
             [
              0.7777777777777778,
              "#fb9f3a"
             ],
             [
              0.8888888888888888,
              "#fdca26"
             ],
             [
              1,
              "#f0f921"
             ]
            ],
            "type": "histogram2dcontour"
           }
          ],
          "mesh3d": [
           {
            "colorbar": {
             "outlinewidth": 0,
             "ticks": ""
            },
            "type": "mesh3d"
           }
          ],
          "parcoords": [
           {
            "line": {
             "colorbar": {
              "outlinewidth": 0,
              "ticks": ""
             }
            },
            "type": "parcoords"
           }
          ],
          "pie": [
           {
            "automargin": true,
            "type": "pie"
           }
          ],
          "scatter": [
           {
            "marker": {
             "colorbar": {
              "outlinewidth": 0,
              "ticks": ""
             }
            },
            "type": "scatter"
           }
          ],
          "scatter3d": [
           {
            "line": {
             "colorbar": {
              "outlinewidth": 0,
              "ticks": ""
             }
            },
            "marker": {
             "colorbar": {
              "outlinewidth": 0,
              "ticks": ""
             }
            },
            "type": "scatter3d"
           }
          ],
          "scattercarpet": [
           {
            "marker": {
             "colorbar": {
              "outlinewidth": 0,
              "ticks": ""
             }
            },
            "type": "scattercarpet"
           }
          ],
          "scattergeo": [
           {
            "marker": {
             "colorbar": {
              "outlinewidth": 0,
              "ticks": ""
             }
            },
            "type": "scattergeo"
           }
          ],
          "scattergl": [
           {
            "marker": {
             "colorbar": {
              "outlinewidth": 0,
              "ticks": ""
             }
            },
            "type": "scattergl"
           }
          ],
          "scattermapbox": [
           {
            "marker": {
             "colorbar": {
              "outlinewidth": 0,
              "ticks": ""
             }
            },
            "type": "scattermapbox"
           }
          ],
          "scatterpolar": [
           {
            "marker": {
             "colorbar": {
              "outlinewidth": 0,
              "ticks": ""
             }
            },
            "type": "scatterpolar"
           }
          ],
          "scatterpolargl": [
           {
            "marker": {
             "colorbar": {
              "outlinewidth": 0,
              "ticks": ""
             }
            },
            "type": "scatterpolargl"
           }
          ],
          "scatterternary": [
           {
            "marker": {
             "colorbar": {
              "outlinewidth": 0,
              "ticks": ""
             }
            },
            "type": "scatterternary"
           }
          ],
          "surface": [
           {
            "colorbar": {
             "outlinewidth": 0,
             "ticks": ""
            },
            "colorscale": [
             [
              0,
              "#0d0887"
             ],
             [
              0.1111111111111111,
              "#46039f"
             ],
             [
              0.2222222222222222,
              "#7201a8"
             ],
             [
              0.3333333333333333,
              "#9c179e"
             ],
             [
              0.4444444444444444,
              "#bd3786"
             ],
             [
              0.5555555555555556,
              "#d8576b"
             ],
             [
              0.6666666666666666,
              "#ed7953"
             ],
             [
              0.7777777777777778,
              "#fb9f3a"
             ],
             [
              0.8888888888888888,
              "#fdca26"
             ],
             [
              1,
              "#f0f921"
             ]
            ],
            "type": "surface"
           }
          ],
          "table": [
           {
            "cells": {
             "fill": {
              "color": "#EBF0F8"
             },
             "line": {
              "color": "white"
             }
            },
            "header": {
             "fill": {
              "color": "#C8D4E3"
             },
             "line": {
              "color": "white"
             }
            },
            "type": "table"
           }
          ]
         },
         "layout": {
          "annotationdefaults": {
           "arrowcolor": "#2a3f5f",
           "arrowhead": 0,
           "arrowwidth": 1
          },
          "autotypenumbers": "strict",
          "coloraxis": {
           "colorbar": {
            "outlinewidth": 0,
            "ticks": ""
           }
          },
          "colorscale": {
           "diverging": [
            [
             0,
             "#8e0152"
            ],
            [
             0.1,
             "#c51b7d"
            ],
            [
             0.2,
             "#de77ae"
            ],
            [
             0.3,
             "#f1b6da"
            ],
            [
             0.4,
             "#fde0ef"
            ],
            [
             0.5,
             "#f7f7f7"
            ],
            [
             0.6,
             "#e6f5d0"
            ],
            [
             0.7,
             "#b8e186"
            ],
            [
             0.8,
             "#7fbc41"
            ],
            [
             0.9,
             "#4d9221"
            ],
            [
             1,
             "#276419"
            ]
           ],
           "sequential": [
            [
             0,
             "#0d0887"
            ],
            [
             0.1111111111111111,
             "#46039f"
            ],
            [
             0.2222222222222222,
             "#7201a8"
            ],
            [
             0.3333333333333333,
             "#9c179e"
            ],
            [
             0.4444444444444444,
             "#bd3786"
            ],
            [
             0.5555555555555556,
             "#d8576b"
            ],
            [
             0.6666666666666666,
             "#ed7953"
            ],
            [
             0.7777777777777778,
             "#fb9f3a"
            ],
            [
             0.8888888888888888,
             "#fdca26"
            ],
            [
             1,
             "#f0f921"
            ]
           ],
           "sequentialminus": [
            [
             0,
             "#0d0887"
            ],
            [
             0.1111111111111111,
             "#46039f"
            ],
            [
             0.2222222222222222,
             "#7201a8"
            ],
            [
             0.3333333333333333,
             "#9c179e"
            ],
            [
             0.4444444444444444,
             "#bd3786"
            ],
            [
             0.5555555555555556,
             "#d8576b"
            ],
            [
             0.6666666666666666,
             "#ed7953"
            ],
            [
             0.7777777777777778,
             "#fb9f3a"
            ],
            [
             0.8888888888888888,
             "#fdca26"
            ],
            [
             1,
             "#f0f921"
            ]
           ]
          },
          "colorway": [
           "#636efa",
           "#EF553B",
           "#00cc96",
           "#ab63fa",
           "#FFA15A",
           "#19d3f3",
           "#FF6692",
           "#B6E880",
           "#FF97FF",
           "#FECB52"
          ],
          "font": {
           "color": "#2a3f5f"
          },
          "geo": {
           "bgcolor": "white",
           "lakecolor": "white",
           "landcolor": "#E5ECF6",
           "showlakes": true,
           "showland": true,
           "subunitcolor": "white"
          },
          "hoverlabel": {
           "align": "left"
          },
          "hovermode": "closest",
          "mapbox": {
           "style": "light"
          },
          "paper_bgcolor": "white",
          "plot_bgcolor": "#E5ECF6",
          "polar": {
           "angularaxis": {
            "gridcolor": "white",
            "linecolor": "white",
            "ticks": ""
           },
           "bgcolor": "#E5ECF6",
           "radialaxis": {
            "gridcolor": "white",
            "linecolor": "white",
            "ticks": ""
           }
          },
          "scene": {
           "xaxis": {
            "backgroundcolor": "#E5ECF6",
            "gridcolor": "white",
            "gridwidth": 2,
            "linecolor": "white",
            "showbackground": true,
            "ticks": "",
            "zerolinecolor": "white"
           },
           "yaxis": {
            "backgroundcolor": "#E5ECF6",
            "gridcolor": "white",
            "gridwidth": 2,
            "linecolor": "white",
            "showbackground": true,
            "ticks": "",
            "zerolinecolor": "white"
           },
           "zaxis": {
            "backgroundcolor": "#E5ECF6",
            "gridcolor": "white",
            "gridwidth": 2,
            "linecolor": "white",
            "showbackground": true,
            "ticks": "",
            "zerolinecolor": "white"
           }
          },
          "shapedefaults": {
           "line": {
            "color": "#2a3f5f"
           }
          },
          "ternary": {
           "aaxis": {
            "gridcolor": "white",
            "linecolor": "white",
            "ticks": ""
           },
           "baxis": {
            "gridcolor": "white",
            "linecolor": "white",
            "ticks": ""
           },
           "bgcolor": "#E5ECF6",
           "caxis": {
            "gridcolor": "white",
            "linecolor": "white",
            "ticks": ""
           }
          },
          "title": {
           "x": 0.05
          },
          "xaxis": {
           "automargin": true,
           "gridcolor": "white",
           "linecolor": "white",
           "ticks": "",
           "title": {
            "standoff": 15
           },
           "zerolinecolor": "white",
           "zerolinewidth": 2
          },
          "yaxis": {
           "automargin": true,
           "gridcolor": "white",
           "linecolor": "white",
           "ticks": "",
           "title": {
            "standoff": 15
           },
           "zerolinecolor": "white",
           "zerolinewidth": 2
          }
         }
        },
        "title": {
         "text": "2D plot parameter influence - aggregate-state encoding"
        },
        "xaxis": {
         "title": {
          "text": "max_depth Decision tree"
         }
        },
        "yaxis": {
         "title": {
          "text": "MAE"
         }
        }
       }
      }
     },
     "metadata": {},
     "output_type": "display_data"
    },
    {
     "data": {
      "image/png": "[encoded data removed]",
      "text/plain": [
       "<Figure size 1152x864 with 1 Axes>"
      ]
     },
     "metadata": {},
     "output_type": "display_data"
    },
    {
     "name": "stdout",
     "output_type": "stream",
     "text": [
      "\n",
      "\u001b[1m\n",
      "The performance of the model on the heldout data is:\u001b[0m \n",
      "MSE: 10130595.474537069\n",
      "r2_score: 0.11621285206426935\n",
      "MAE: 910.5696355469248\n",
      "RMSE: 10130595.474537069\n"
     ]
    }
   ],
   "source": [
    "# Define the K folds\n",
    "nk = 10\n",
    "kf = KFold(n_splits=nk, random_state=0, shuffle=True)\n",
    "\n",
    "# Set the search space of the parameters min_samples_leaf and max_depth\n",
    "max_depths_range = np.arange(2, 8)\n",
    "samples_leaf_range = np.arange(1, 50, 10)\n",
    "\n",
    "# Set the grid to save MAE for each parameter combination\n",
    "training_MAE = np.zeros((nk , len(max_depths_range), len(samples_leaf_range)))\n",
    "test_MAE = np.zeros((nk , len(max_depths_range), len(samples_leaf_range)))\n",
    "\n",
    "# Loop through parameter ranges and calculate MAE\n",
    "i = 0 # KFold counter\n",
    "for train_index , val_index in kf.split(X_train_ag):\n",
    "    X_t, X_val = X_train_ag.iloc[train_index], X_train_ag.iloc[val_index]\n",
    "    y_t, y_val = y_train_ag.iloc[train_index], y_train_ag.iloc[val_index]\n",
    "    j = 0 # max_depth counter\n",
    "    for depth in max_depths_range:\n",
    "        k = 0 # min_samples counter\n",
    "        for samples in samples_leaf_range:\n",
    "            # Train the decision tree with the parameter combination\n",
    "            dtree_reg = DecisionTreeRegressor(min_samples_leaf=samples, max_depth=depth)\n",
    "            dtree_reg.fit(X_t, y_t)\n",
    "            # Calculate the MAE on the validation data\n",
    "            y_pred = dtree_reg.predict(X_val)\n",
    "            training_MAE[i][j][k] = mean_absolute_error(y_val, y_pred)\n",
    "            # Make predictions for the test data\n",
    "            test_prediction = dtree_reg.predict(X_test_ag)\n",
    "            test_MAE[i][j][k] = mean_absolute_error(y_test_ag, test_prediction)\n",
    "            k += 1\n",
    "        j += 1\n",
    "    i += 1\n",
    "\n",
    "# Get the index of the highest MAE from the MAE grid and translate it to optimal parameters\n",
    "depth_index, samples_index = list(np.unravel_index(np.argmin(np.mean(training_MAE, axis=0)), np.array(training_MAE).shape))[1:]\n",
    "best_max_depth, best_sample_leafs = max_depths_range[depth_index], samples_leaf_range[samples_index]\n",
    "\n",
    "print(\n",
    "    '\\n\\033[1m' + 'The optimal parameters based on MAE is:' + '\\033[0m' + '\\nmax_depth: {} \\nmin_samples_leaf: {}'\n",
    "    .format(\n",
    "        best_max_depth,\n",
    "        best_sample_leafs\n",
    "    ))\n",
    "\n",
    "# Plot 2d graph showing the influence of max_depth on training and testing MAE\n",
    "fig = go.Figure()\n",
    "fig.add_trace(go.Scatter(x=max_depths_range, y=np.mean(np.mean(training_MAE , axis = 0), axis=1), mode='lines+markers', name='Train')) \n",
    "fig.add_trace(go.Scatter(x=max_depths_range, y=np.mean(np.mean(test_MAE , axis = 0), axis=1), mode='lines+markers', name='Test'))\n",
    "fig.update_layout(\n",
    "    title=\"2D plot parameter influence - aggregate-state encoding\",\n",
    "    xaxis_title=\"max_depth Decision tree\",\n",
    "    yaxis_title=\"MAE\"\n",
    ")\n",
    "fig.show()\n",
    "\n",
    "# Create a dataframe of the cross validated accuracies based on parameter combinations\n",
    "plotting_data = pd.DataFrame(data={\n",
    "    'max_depth': [depth for depth in max_depths_range for n_leaf in range(len(samples_leaf_range))],\n",
    "    'min_samples_leaf': np.tile(samples_leaf_range, len(max_depths_range)),\n",
    "    'MAE': np.mean(training_MAE, axis=0).flatten(), # Take mean f1 of cross validations and flatten it\n",
    "})\n",
    "\n",
    "# Create 3D plot to show how the selected parameters affect the performance\n",
    "fig = plt.figure(figsize=(16, 12))\n",
    "plot = fig.add_subplot(projection='3d')\n",
    "plot.scatter(plotting_data['max_depth'], plotting_data['min_samples_leaf'], plotting_data['MAE'])\n",
    "plot.set_xlabel('max_depth')\n",
    "plot.set_ylabel('min_samples_leaf')\n",
    "plot.set_zlabel('MAE')\n",
    "plt.title(label=\"3D plot parameter influence\", fontsize=28)\n",
    "plt.show()\n",
    "\n",
    "# Compute the performance of the model on your held-out test data\n",
    "prediction = DecisionTreeRegressor(min_samples_leaf=best_sample_leafs, max_depth=best_max_depth).fit(X_train_ag, y_train_ag).predict(X_test_ag)\n",
    "\n",
    "print(\n",
    "    '\\n\\033[1m' +'\\nThe performance of the model on the heldout data is:' + '\\033[0m' +' \\nMSE: {}\\nr2_score: {}\\nMAE: {}\\nRMSE: {}'\n",
    "    .format(\n",
    "        mean_squared_error(y_test_ag, prediction),\n",
    "        r2_score(y_test_ag, prediction),\n",
    "        mean_absolute_error(y_test_ag, prediction),\n",
    "        mean_squared_error(y_test_ag, prediction, squared=True)\n",
    "    )\n",
    ")"
   ]
  },
  {
   "attachments": {},
   "cell_type": "markdown",
   "id": "87025bb9",
   "metadata": {},
   "source": [
    "## 4. Predicting Case Remaining Time - kNN Regression\n",
    "\n",
    "\n",
    "In this task, you will use the kNN Regression to learn a regression model to predict case remaining time. The same as task 3, now perform the following steps to train a regression model. \n",
    "\n",
    "i) use the default values for the parameters to get a [kNN Regression](https://scikit-learn.org/stable/modules/generated/sklearn.neighbors.KNeighborsRegressor.html#sklearn.neighbors.KNeighborsRegressor) running on the training data. (*Optional: compute the error measures to get an impression of the performance of the model).\n",
    "\n",
    "ii) use 10-fold cross-validation to determine a possibly better choice for the two parameters *n_neighbors* and *weights* \n",
    "    \n",
    "iii) create 2D or 3D plot that shows how the selected parameters affect the performance. \n",
    "\n",
    "iv) select the best-performing kNN, i.e., the one that achieved the lowest cross-validated errors, and report all the error measures (MAE, MSE, RMSE, R^2) of the fitted model on the held-out test data. \n"
   ]
  },
  {
   "cell_type": "markdown",
   "id": "1f9a2eca",
   "metadata": {},
   "source": [
    "## Default KNN regressor"
   ]
  },
  {
   "cell_type": "code",
   "execution_count": 43,
   "id": "4aac112d",
   "metadata": {},
   "outputs": [
    {
     "name": "stdout",
     "output_type": "stream",
     "text": [
      "The MAE for the last_2_state encoded dataframe with the default decision tree model is: 1099.437682855471\n",
      "The MAE for the agregate encoded dataframe with the default decision tree model is: 913.4981860737274\n"
     ]
    }
   ],
   "source": [
    "from sklearn.neighbors import KNeighborsRegressor\n",
    "from sklearn.metrics import mean_absolute_error\n",
    "\n",
    "# Train a default model\n",
    "regressor_ls = KNeighborsRegressor().fit(X_train_ls, y_train_ls)\n",
    "regressor_ag = KNeighborsRegressor().fit(X_train_ag, y_train_ag)\n",
    "\n",
    "# Calculate the mean absolute error per regressor\n",
    "mae_ls = mean_absolute_error(y_test_ls, regressor_ls.predict(X_test_ls))\n",
    "mae_ag = mean_absolute_error(y_test_ag, regressor_ag.predict(X_test_ag))\n",
    "\n",
    "# Print the result\n",
    "print(\"The MAE for the last_2_state encoded dataframe with the default decision tree model is: {}\".format(mae_ls))\n",
    "print(\"The MAE for the agregate encoded dataframe with the default decision tree model is: {}\".format(mae_ag))"
   ]
  },
  {
   "cell_type": "markdown",
   "id": "b1a8d4ea",
   "metadata": {},
   "source": [
    "## KNN regression with last-2-state encoding"
   ]
  },
  {
   "cell_type": "code",
   "execution_count": 91,
   "id": "f9e67e87",
   "metadata": {},
   "outputs": [
    {
     "name": "stdout",
     "output_type": "stream",
     "text": [
      "\n",
      "\u001b[1mThe optimal parameter based on MAE is:\u001b[0m\n",
      "n_neighbours: 29\n"
     ]
    },
    {
     "data": {
      "application/vnd.plotly.v1+json": {
       "config": {
        "plotlyServerURL": "https://plot.ly"
       },
       "data": [
        {
         "mode": "lines+markers",
         "name": "Train",
         "type": "scatter",
         "x": [
          1,
          3,
          5,
          7,
          9,
          11,
          13,
          15,
          17,
          19,
          21,
          23,
          25,
          27,
          29
         ],
         "y": [
          1265.4169637918917,
          1160.8024291692564,
          1139.814628495196,
          1136.466927836262,
          1131.7311216623161,
          1120.1074743166923,
          1113.7818397525436,
          1107.788342511952,
          1102.325469468043,
          1100.6189155510633,
          1096.8505649889519,
          1096.743734225711,
          1095.010899251941,
          1096.8108704626052,
          1090.3964525053389
         ]
        },
        {
         "mode": "lines+markers",
         "name": "Test",
         "type": "scatter",
         "x": [
          1,
          3,
          5,
          7,
          9,
          11,
          13,
          15,
          17,
          19,
          21,
          23,
          25,
          27,
          29
         ],
         "y": [
          1179.1653598595672,
          1116.059945819875,
          1105.7047029041714,
          1104.9758789070845,
          1098.5456302215887,
          1090.7014538246863,
          1079.9903705287961,
          1076.8036733041786,
          1075.113842416418,
          1073.9157121071187,
          1072.2314497463212,
          1071.6199980751467,
          1073.2491361991138,
          1074.0553931688944,
          1074.1759038710575
         ]
        }
       ],
       "layout": {
        "template": {
         "data": {
          "bar": [
           {
            "error_x": {
             "color": "#2a3f5f"
            },
            "error_y": {
             "color": "#2a3f5f"
            },
            "marker": {
             "line": {
              "color": "#E5ECF6",
              "width": 0.5
             }
            },
            "type": "bar"
           }
          ],
          "barpolar": [
           {
            "marker": {
             "line": {
              "color": "#E5ECF6",
              "width": 0.5
             }
            },
            "type": "barpolar"
           }
          ],
          "carpet": [
           {
            "aaxis": {
             "endlinecolor": "#2a3f5f",
             "gridcolor": "white",
             "linecolor": "white",
             "minorgridcolor": "white",
             "startlinecolor": "#2a3f5f"
            },
            "baxis": {
             "endlinecolor": "#2a3f5f",
             "gridcolor": "white",
             "linecolor": "white",
             "minorgridcolor": "white",
             "startlinecolor": "#2a3f5f"
            },
            "type": "carpet"
           }
          ],
          "choropleth": [
           {
            "colorbar": {
             "outlinewidth": 0,
             "ticks": ""
            },
            "type": "choropleth"
           }
          ],
          "contour": [
           {
            "colorbar": {
             "outlinewidth": 0,
             "ticks": ""
            },
            "colorscale": [
             [
              0,
              "#0d0887"
             ],
             [
              0.1111111111111111,
              "#46039f"
             ],
             [
              0.2222222222222222,
              "#7201a8"
             ],
             [
              0.3333333333333333,
              "#9c179e"
             ],
             [
              0.4444444444444444,
              "#bd3786"
             ],
             [
              0.5555555555555556,
              "#d8576b"
             ],
             [
              0.6666666666666666,
              "#ed7953"
             ],
             [
              0.7777777777777778,
              "#fb9f3a"
             ],
             [
              0.8888888888888888,
              "#fdca26"
             ],
             [
              1,
              "#f0f921"
             ]
            ],
            "type": "contour"
           }
          ],
          "contourcarpet": [
           {
            "colorbar": {
             "outlinewidth": 0,
             "ticks": ""
            },
            "type": "contourcarpet"
           }
          ],
          "heatmap": [
           {
            "colorbar": {
             "outlinewidth": 0,
             "ticks": ""
            },
            "colorscale": [
             [
              0,
              "#0d0887"
             ],
             [
              0.1111111111111111,
              "#46039f"
             ],
             [
              0.2222222222222222,
              "#7201a8"
             ],
             [
              0.3333333333333333,
              "#9c179e"
             ],
             [
              0.4444444444444444,
              "#bd3786"
             ],
             [
              0.5555555555555556,
              "#d8576b"
             ],
             [
              0.6666666666666666,
              "#ed7953"
             ],
             [
              0.7777777777777778,
              "#fb9f3a"
             ],
             [
              0.8888888888888888,
              "#fdca26"
             ],
             [
              1,
              "#f0f921"
             ]
            ],
            "type": "heatmap"
           }
          ],
          "heatmapgl": [
           {
            "colorbar": {
             "outlinewidth": 0,
             "ticks": ""
            },
            "colorscale": [
             [
              0,
              "#0d0887"
             ],
             [
              0.1111111111111111,
              "#46039f"
             ],
             [
              0.2222222222222222,
              "#7201a8"
             ],
             [
              0.3333333333333333,
              "#9c179e"
             ],
             [
              0.4444444444444444,
              "#bd3786"
             ],
             [
              0.5555555555555556,
              "#d8576b"
             ],
             [
              0.6666666666666666,
              "#ed7953"
             ],
             [
              0.7777777777777778,
              "#fb9f3a"
             ],
             [
              0.8888888888888888,
              "#fdca26"
             ],
             [
              1,
              "#f0f921"
             ]
            ],
            "type": "heatmapgl"
           }
          ],
          "histogram": [
           {
            "marker": {
             "colorbar": {
              "outlinewidth": 0,
              "ticks": ""
             }
            },
            "type": "histogram"
           }
          ],
          "histogram2d": [
           {
            "colorbar": {
             "outlinewidth": 0,
             "ticks": ""
            },
            "colorscale": [
             [
              0,
              "#0d0887"
             ],
             [
              0.1111111111111111,
              "#46039f"
             ],
             [
              0.2222222222222222,
              "#7201a8"
             ],
             [
              0.3333333333333333,
              "#9c179e"
             ],
             [
              0.4444444444444444,
              "#bd3786"
             ],
             [
              0.5555555555555556,
              "#d8576b"
             ],
             [
              0.6666666666666666,
              "#ed7953"
             ],
             [
              0.7777777777777778,
              "#fb9f3a"
             ],
             [
              0.8888888888888888,
              "#fdca26"
             ],
             [
              1,
              "#f0f921"
             ]
            ],
            "type": "histogram2d"
           }
          ],
          "histogram2dcontour": [
           {
            "colorbar": {
             "outlinewidth": 0,
             "ticks": ""
            },
            "colorscale": [
             [
              0,
              "#0d0887"
             ],
             [
              0.1111111111111111,
              "#46039f"
             ],
             [
              0.2222222222222222,
              "#7201a8"
             ],
             [
              0.3333333333333333,
              "#9c179e"
             ],
             [
              0.4444444444444444,
              "#bd3786"
             ],
             [
              0.5555555555555556,
              "#d8576b"
             ],
             [
              0.6666666666666666,
              "#ed7953"
             ],
             [
              0.7777777777777778,
              "#fb9f3a"
             ],
             [
              0.8888888888888888,
              "#fdca26"
             ],
             [
              1,
              "#f0f921"
             ]
            ],
            "type": "histogram2dcontour"
           }
          ],
          "mesh3d": [
           {
            "colorbar": {
             "outlinewidth": 0,
             "ticks": ""
            },
            "type": "mesh3d"
           }
          ],
          "parcoords": [
           {
            "line": {
             "colorbar": {
              "outlinewidth": 0,
              "ticks": ""
             }
            },
            "type": "parcoords"
           }
          ],
          "pie": [
           {
            "automargin": true,
            "type": "pie"
           }
          ],
          "scatter": [
           {
            "marker": {
             "colorbar": {
              "outlinewidth": 0,
              "ticks": ""
             }
            },
            "type": "scatter"
           }
          ],
          "scatter3d": [
           {
            "line": {
             "colorbar": {
              "outlinewidth": 0,
              "ticks": ""
             }
            },
            "marker": {
             "colorbar": {
              "outlinewidth": 0,
              "ticks": ""
             }
            },
            "type": "scatter3d"
           }
          ],
          "scattercarpet": [
           {
            "marker": {
             "colorbar": {
              "outlinewidth": 0,
              "ticks": ""
             }
            },
            "type": "scattercarpet"
           }
          ],
          "scattergeo": [
           {
            "marker": {
             "colorbar": {
              "outlinewidth": 0,
              "ticks": ""
             }
            },
            "type": "scattergeo"
           }
          ],
          "scattergl": [
           {
            "marker": {
             "colorbar": {
              "outlinewidth": 0,
              "ticks": ""
             }
            },
            "type": "scattergl"
           }
          ],
          "scattermapbox": [
           {
            "marker": {
             "colorbar": {
              "outlinewidth": 0,
              "ticks": ""
             }
            },
            "type": "scattermapbox"
           }
          ],
          "scatterpolar": [
           {
            "marker": {
             "colorbar": {
              "outlinewidth": 0,
              "ticks": ""
             }
            },
            "type": "scatterpolar"
           }
          ],
          "scatterpolargl": [
           {
            "marker": {
             "colorbar": {
              "outlinewidth": 0,
              "ticks": ""
             }
            },
            "type": "scatterpolargl"
           }
          ],
          "scatterternary": [
           {
            "marker": {
             "colorbar": {
              "outlinewidth": 0,
              "ticks": ""
             }
            },
            "type": "scatterternary"
           }
          ],
          "surface": [
           {
            "colorbar": {
             "outlinewidth": 0,
             "ticks": ""
            },
            "colorscale": [
             [
              0,
              "#0d0887"
             ],
             [
              0.1111111111111111,
              "#46039f"
             ],
             [
              0.2222222222222222,
              "#7201a8"
             ],
             [
              0.3333333333333333,
              "#9c179e"
             ],
             [
              0.4444444444444444,
              "#bd3786"
             ],
             [
              0.5555555555555556,
              "#d8576b"
             ],
             [
              0.6666666666666666,
              "#ed7953"
             ],
             [
              0.7777777777777778,
              "#fb9f3a"
             ],
             [
              0.8888888888888888,
              "#fdca26"
             ],
             [
              1,
              "#f0f921"
             ]
            ],
            "type": "surface"
           }
          ],
          "table": [
           {
            "cells": {
             "fill": {
              "color": "#EBF0F8"
             },
             "line": {
              "color": "white"
             }
            },
            "header": {
             "fill": {
              "color": "#C8D4E3"
             },
             "line": {
              "color": "white"
             }
            },
            "type": "table"
           }
          ]
         },
         "layout": {
          "annotationdefaults": {
           "arrowcolor": "#2a3f5f",
           "arrowhead": 0,
           "arrowwidth": 1
          },
          "autotypenumbers": "strict",
          "coloraxis": {
           "colorbar": {
            "outlinewidth": 0,
            "ticks": ""
           }
          },
          "colorscale": {
           "diverging": [
            [
             0,
             "#8e0152"
            ],
            [
             0.1,
             "#c51b7d"
            ],
            [
             0.2,
             "#de77ae"
            ],
            [
             0.3,
             "#f1b6da"
            ],
            [
             0.4,
             "#fde0ef"
            ],
            [
             0.5,
             "#f7f7f7"
            ],
            [
             0.6,
             "#e6f5d0"
            ],
            [
             0.7,
             "#b8e186"
            ],
            [
             0.8,
             "#7fbc41"
            ],
            [
             0.9,
             "#4d9221"
            ],
            [
             1,
             "#276419"
            ]
           ],
           "sequential": [
            [
             0,
             "#0d0887"
            ],
            [
             0.1111111111111111,
             "#46039f"
            ],
            [
             0.2222222222222222,
             "#7201a8"
            ],
            [
             0.3333333333333333,
             "#9c179e"
            ],
            [
             0.4444444444444444,
             "#bd3786"
            ],
            [
             0.5555555555555556,
             "#d8576b"
            ],
            [
             0.6666666666666666,
             "#ed7953"
            ],
            [
             0.7777777777777778,
             "#fb9f3a"
            ],
            [
             0.8888888888888888,
             "#fdca26"
            ],
            [
             1,
             "#f0f921"
            ]
           ],
           "sequentialminus": [
            [
             0,
             "#0d0887"
            ],
            [
             0.1111111111111111,
             "#46039f"
            ],
            [
             0.2222222222222222,
             "#7201a8"
            ],
            [
             0.3333333333333333,
             "#9c179e"
            ],
            [
             0.4444444444444444,
             "#bd3786"
            ],
            [
             0.5555555555555556,
             "#d8576b"
            ],
            [
             0.6666666666666666,
             "#ed7953"
            ],
            [
             0.7777777777777778,
             "#fb9f3a"
            ],
            [
             0.8888888888888888,
             "#fdca26"
            ],
            [
             1,
             "#f0f921"
            ]
           ]
          },
          "colorway": [
           "#636efa",
           "#EF553B",
           "#00cc96",
           "#ab63fa",
           "#FFA15A",
           "#19d3f3",
           "#FF6692",
           "#B6E880",
           "#FF97FF",
           "#FECB52"
          ],
          "font": {
           "color": "#2a3f5f"
          },
          "geo": {
           "bgcolor": "white",
           "lakecolor": "white",
           "landcolor": "#E5ECF6",
           "showlakes": true,
           "showland": true,
           "subunitcolor": "white"
          },
          "hoverlabel": {
           "align": "left"
          },
          "hovermode": "closest",
          "mapbox": {
           "style": "light"
          },
          "paper_bgcolor": "white",
          "plot_bgcolor": "#E5ECF6",
          "polar": {
           "angularaxis": {
            "gridcolor": "white",
            "linecolor": "white",
            "ticks": ""
           },
           "bgcolor": "#E5ECF6",
           "radialaxis": {
            "gridcolor": "white",
            "linecolor": "white",
            "ticks": ""
           }
          },
          "scene": {
           "xaxis": {
            "backgroundcolor": "#E5ECF6",
            "gridcolor": "white",
            "gridwidth": 2,
            "linecolor": "white",
            "showbackground": true,
            "ticks": "",
            "zerolinecolor": "white"
           },
           "yaxis": {
            "backgroundcolor": "#E5ECF6",
            "gridcolor": "white",
            "gridwidth": 2,
            "linecolor": "white",
            "showbackground": true,
            "ticks": "",
            "zerolinecolor": "white"
           },
           "zaxis": {
            "backgroundcolor": "#E5ECF6",
            "gridcolor": "white",
            "gridwidth": 2,
            "linecolor": "white",
            "showbackground": true,
            "ticks": "",
            "zerolinecolor": "white"
           }
          },
          "shapedefaults": {
           "line": {
            "color": "#2a3f5f"
           }
          },
          "ternary": {
           "aaxis": {
            "gridcolor": "white",
            "linecolor": "white",
            "ticks": ""
           },
           "baxis": {
            "gridcolor": "white",
            "linecolor": "white",
            "ticks": ""
           },
           "bgcolor": "#E5ECF6",
           "caxis": {
            "gridcolor": "white",
            "linecolor": "white",
            "ticks": ""
           }
          },
          "title": {
           "x": 0.05
          },
          "xaxis": {
           "automargin": true,
           "gridcolor": "white",
           "linecolor": "white",
           "ticks": "",
           "title": {
            "standoff": 15
           },
           "zerolinecolor": "white",
           "zerolinewidth": 2
          },
          "yaxis": {
           "automargin": true,
           "gridcolor": "white",
           "linecolor": "white",
           "ticks": "",
           "title": {
            "standoff": 15
           },
           "zerolinecolor": "white",
           "zerolinewidth": 2
          }
         }
        },
        "title": {
         "text": "2D plot parameter influence - last_2_state encoding"
        },
        "xaxis": {
         "title": {
          "text": "n_neighbours kNN"
         }
        },
        "yaxis": {
         "title": {
          "text": "MAE"
         }
        }
       }
      }
     },
     "metadata": {},
     "output_type": "display_data"
    },
    {
     "name": "stdout",
     "output_type": "stream",
     "text": [
      "\n",
      "\u001b[1m\n",
      "The performance of the model on the heldout data is:\u001b[0m \n",
      "MSE: 7944082.568162259\n",
      "r2_score: 0.3069629427481503\n",
      "MAE: 1067.6119125925627\n",
      "RMSE: 7944082.568162259\n"
     ]
    }
   ],
   "source": [
    "# Import packages\n",
    "from sklearn.neighbors import KNeighborsRegressor\n",
    "from sklearn.metrics import mean_squared_error\n",
    "\n",
    "# Define the K folds\n",
    "nk = 5\n",
    "kf = KFold(n_splits=nk, random_state=0, shuffle=True)\n",
    "\n",
    "# Set the search space of the parameters min_samples_leaf and max_depth\n",
    "n_neighbours_range = np.arange(1, 25, 2)\n",
    "\n",
    "# Set the grid to save MAE for each parameter combination\n",
    "training_MAE = np.zeros((nk , len(n_neighbours_range)))\n",
    "test_MAE = np.zeros((nk , len(n_neighbours_range)))\n",
    "\n",
    "# Loop through parameter ranges and calculate MAE\n",
    "i = 0 # KFold counter\n",
    "for train_index , val_index in kf.split(X_train_ls):\n",
    "    X_t, X_val = X_train_ls.iloc[train_index], X_train_ls.iloc[val_index]\n",
    "    y_t, y_val = y_train_ls.iloc[train_index], y_train_ls.iloc[val_index]\n",
    "    j = 0 # n_neighbour counter\n",
    "    for n_neigbour in n_neighbours_range:\n",
    "        knn_reg = KNeighborsRegressor(n_neighbors=n_neigbour, weights='distance')\n",
    "        knn_reg.fit(X_t, y_t)\n",
    "        # Calculate the MAE on the validation data\n",
    "        y_pred = knn_reg.predict(X_val)\n",
    "        training_MAE[i][j] = mean_absolute_error(y_val, y_pred)\n",
    "        # Make predictions for the test data\n",
    "        test_prediction = knn_reg.predict(X_test_ls)\n",
    "        test_MAE[i][j] = mean_absolute_error(y_test_ls, test_prediction)\n",
    "        j += 1\n",
    "    i += 1\n",
    "\n",
    "# Get the index of the highest MAE from the MAE grid and translate it to optimal parameter\n",
    "neighbour_index = list(np.unravel_index(np.argmin(np.mean(training_MAE, axis=0)), np.array(training_MAE).shape))[1]\n",
    "best_n_neighbours = n_neighbours_range[neighbour_index]\n",
    "\n",
    "print('\\n\\033[1m' + 'The optimal parameter based on MAE is:' + '\\033[0m' + '\\nn_neighbours: {}'.format(best_n_neighbours))\n",
    "\n",
    "# Plot 2d graph showing the influence of n_neighbours on training and testing MAE\n",
    "fig = go.Figure()\n",
    "fig.add_trace(go.Scatter(x=n_neighbours_range, y=np.mean(training_MAE , axis = 0), mode='lines+markers', name='Validation')) \n",
    "fig.add_trace(go.Scatter(x=n_neighbours_range, y=np.mean(test_MAE , axis = 0), mode='lines+markers', name='Test'))\n",
    "fig.update_layout(\n",
    "    title=\"2D plot parameter influence - last_2_state encoding\",\n",
    "    xaxis_title=\"n_neighbours kNN\",\n",
    "    yaxis_title=\"MAE\"\n",
    ")\n",
    "fig.show()\n",
    "\n",
    "# Compute the performance of the model on your held-out test data\n",
    "prediction = KNeighborsRegressor(n_neighbors=best_n_neighbours).fit(X_train_ls, y_train_ls).predict(X_test_ls)\n",
    "\n",
    "print(\n",
    "    '\\n\\033[1m' +'\\nThe performance of the model on the heldout data is:' + '\\033[0m' +' \\nMSE: {}\\nr2_score: {}\\nMAE: {}\\nRMSE: {}'\n",
    "    .format(\n",
    "        mean_squared_error(y_test_ls, prediction),\n",
    "        r2_score(y_test_ls, prediction),\n",
    "        mean_absolute_error(y_test_ls, prediction),\n",
    "        mean_squared_error(y_test_ls, prediction, squared=True)\n",
    "    )\n",
    ")"
   ]
  },
  {
   "cell_type": "markdown",
   "id": "5e5cc2e5",
   "metadata": {},
   "source": [
    "## KNN regression with aggregate-state encoding"
   ]
  },
  {
   "cell_type": "code",
   "execution_count": 92,
   "id": "b90d3874",
   "metadata": {},
   "outputs": [
    {
     "name": "stdout",
     "output_type": "stream",
     "text": [
      "\n",
      "\u001b[1mThe optimal parameter based on MAE is:\u001b[0m\n",
      "n_neighbours: 29\n"
     ]
    },
    {
     "data": {
      "application/vnd.plotly.v1+json": {
       "config": {
        "plotlyServerURL": "https://plot.ly"
       },
       "data": [
        {
         "mode": "lines+markers",
         "name": "Validation",
         "type": "scatter",
         "x": [
          1,
          3,
          5,
          7,
          9,
          11,
          13,
          15,
          17,
          19,
          21,
          23,
          25,
          27,
          29
         ],
         "y": [
          1035.7299404086148,
          971.8783001441632,
          973.3711353725075,
          966.0665169406133,
          953.6520131422803,
          948.583187271702,
          955.3665772154233,
          948.8618491089495,
          940.6766507608538,
          938.3210406043421,
          938.6065758371487,
          937.0631259602648,
          936.3571166276455,
          937.5976296096387,
          934.7989160711317
         ]
        },
        {
         "mode": "lines+markers",
         "name": "Test",
         "type": "scatter",
         "x": [
          1,
          3,
          5,
          7,
          9,
          11,
          13,
          15,
          17,
          19,
          21,
          23,
          25,
          27,
          29
         ],
         "y": [
          938.9150380339381,
          878.4807885938551,
          892.5888654411528,
          884.4121025769848,
          886.3381350957922,
          885.847542247879,
          883.8449075148731,
          881.0759644522775,
          879.4028695802714,
          878.9077834729524,
          878.8462931406264,
          879.9045353322705,
          880.855265965324,
          881.1439523035912,
          882.4902422044363
         ]
        }
       ],
       "layout": {
        "template": {
         "data": {
          "bar": [
           {
            "error_x": {
             "color": "#2a3f5f"
            },
            "error_y": {
             "color": "#2a3f5f"
            },
            "marker": {
             "line": {
              "color": "#E5ECF6",
              "width": 0.5
             }
            },
            "type": "bar"
           }
          ],
          "barpolar": [
           {
            "marker": {
             "line": {
              "color": "#E5ECF6",
              "width": 0.5
             }
            },
            "type": "barpolar"
           }
          ],
          "carpet": [
           {
            "aaxis": {
             "endlinecolor": "#2a3f5f",
             "gridcolor": "white",
             "linecolor": "white",
             "minorgridcolor": "white",
             "startlinecolor": "#2a3f5f"
            },
            "baxis": {
             "endlinecolor": "#2a3f5f",
             "gridcolor": "white",
             "linecolor": "white",
             "minorgridcolor": "white",
             "startlinecolor": "#2a3f5f"
            },
            "type": "carpet"
           }
          ],
          "choropleth": [
           {
            "colorbar": {
             "outlinewidth": 0,
             "ticks": ""
            },
            "type": "choropleth"
           }
          ],
          "contour": [
           {
            "colorbar": {
             "outlinewidth": 0,
             "ticks": ""
            },
            "colorscale": [
             [
              0,
              "#0d0887"
             ],
             [
              0.1111111111111111,
              "#46039f"
             ],
             [
              0.2222222222222222,
              "#7201a8"
             ],
             [
              0.3333333333333333,
              "#9c179e"
             ],
             [
              0.4444444444444444,
              "#bd3786"
             ],
             [
              0.5555555555555556,
              "#d8576b"
             ],
             [
              0.6666666666666666,
              "#ed7953"
             ],
             [
              0.7777777777777778,
              "#fb9f3a"
             ],
             [
              0.8888888888888888,
              "#fdca26"
             ],
             [
              1,
              "#f0f921"
             ]
            ],
            "type": "contour"
           }
          ],
          "contourcarpet": [
           {
            "colorbar": {
             "outlinewidth": 0,
             "ticks": ""
            },
            "type": "contourcarpet"
           }
          ],
          "heatmap": [
           {
            "colorbar": {
             "outlinewidth": 0,
             "ticks": ""
            },
            "colorscale": [
             [
              0,
              "#0d0887"
             ],
             [
              0.1111111111111111,
              "#46039f"
             ],
             [
              0.2222222222222222,
              "#7201a8"
             ],
             [
              0.3333333333333333,
              "#9c179e"
             ],
             [
              0.4444444444444444,
              "#bd3786"
             ],
             [
              0.5555555555555556,
              "#d8576b"
             ],
             [
              0.6666666666666666,
              "#ed7953"
             ],
             [
              0.7777777777777778,
              "#fb9f3a"
             ],
             [
              0.8888888888888888,
              "#fdca26"
             ],
             [
              1,
              "#f0f921"
             ]
            ],
            "type": "heatmap"
           }
          ],
          "heatmapgl": [
           {
            "colorbar": {
             "outlinewidth": 0,
             "ticks": ""
            },
            "colorscale": [
             [
              0,
              "#0d0887"
             ],
             [
              0.1111111111111111,
              "#46039f"
             ],
             [
              0.2222222222222222,
              "#7201a8"
             ],
             [
              0.3333333333333333,
              "#9c179e"
             ],
             [
              0.4444444444444444,
              "#bd3786"
             ],
             [
              0.5555555555555556,
              "#d8576b"
             ],
             [
              0.6666666666666666,
              "#ed7953"
             ],
             [
              0.7777777777777778,
              "#fb9f3a"
             ],
             [
              0.8888888888888888,
              "#fdca26"
             ],
             [
              1,
              "#f0f921"
             ]
            ],
            "type": "heatmapgl"
           }
          ],
          "histogram": [
           {
            "marker": {
             "colorbar": {
              "outlinewidth": 0,
              "ticks": ""
             }
            },
            "type": "histogram"
           }
          ],
          "histogram2d": [
           {
            "colorbar": {
             "outlinewidth": 0,
             "ticks": ""
            },
            "colorscale": [
             [
              0,
              "#0d0887"
             ],
             [
              0.1111111111111111,
              "#46039f"
             ],
             [
              0.2222222222222222,
              "#7201a8"
             ],
             [
              0.3333333333333333,
              "#9c179e"
             ],
             [
              0.4444444444444444,
              "#bd3786"
             ],
             [
              0.5555555555555556,
              "#d8576b"
             ],
             [
              0.6666666666666666,
              "#ed7953"
             ],
             [
              0.7777777777777778,
              "#fb9f3a"
             ],
             [
              0.8888888888888888,
              "#fdca26"
             ],
             [
              1,
              "#f0f921"
             ]
            ],
            "type": "histogram2d"
           }
          ],
          "histogram2dcontour": [
           {
            "colorbar": {
             "outlinewidth": 0,
             "ticks": ""
            },
            "colorscale": [
             [
              0,
              "#0d0887"
             ],
             [
              0.1111111111111111,
              "#46039f"
             ],
             [
              0.2222222222222222,
              "#7201a8"
             ],
             [
              0.3333333333333333,
              "#9c179e"
             ],
             [
              0.4444444444444444,
              "#bd3786"
             ],
             [
              0.5555555555555556,
              "#d8576b"
             ],
             [
              0.6666666666666666,
              "#ed7953"
             ],
             [
              0.7777777777777778,
              "#fb9f3a"
             ],
             [
              0.8888888888888888,
              "#fdca26"
             ],
             [
              1,
              "#f0f921"
             ]
            ],
            "type": "histogram2dcontour"
           }
          ],
          "mesh3d": [
           {
            "colorbar": {
             "outlinewidth": 0,
             "ticks": ""
            },
            "type": "mesh3d"
           }
          ],
          "parcoords": [
           {
            "line": {
             "colorbar": {
              "outlinewidth": 0,
              "ticks": ""
             }
            },
            "type": "parcoords"
           }
          ],
          "pie": [
           {
            "automargin": true,
            "type": "pie"
           }
          ],
          "scatter": [
           {
            "marker": {
             "colorbar": {
              "outlinewidth": 0,
              "ticks": ""
             }
            },
            "type": "scatter"
           }
          ],
          "scatter3d": [
           {
            "line": {
             "colorbar": {
              "outlinewidth": 0,
              "ticks": ""
             }
            },
            "marker": {
             "colorbar": {
              "outlinewidth": 0,
              "ticks": ""
             }
            },
            "type": "scatter3d"
           }
          ],
          "scattercarpet": [
           {
            "marker": {
             "colorbar": {
              "outlinewidth": 0,
              "ticks": ""
             }
            },
            "type": "scattercarpet"
           }
          ],
          "scattergeo": [
           {
            "marker": {
             "colorbar": {
              "outlinewidth": 0,
              "ticks": ""
             }
            },
            "type": "scattergeo"
           }
          ],
          "scattergl": [
           {
            "marker": {
             "colorbar": {
              "outlinewidth": 0,
              "ticks": ""
             }
            },
            "type": "scattergl"
           }
          ],
          "scattermapbox": [
           {
            "marker": {
             "colorbar": {
              "outlinewidth": 0,
              "ticks": ""
             }
            },
            "type": "scattermapbox"
           }
          ],
          "scatterpolar": [
           {
            "marker": {
             "colorbar": {
              "outlinewidth": 0,
              "ticks": ""
             }
            },
            "type": "scatterpolar"
           }
          ],
          "scatterpolargl": [
           {
            "marker": {
             "colorbar": {
              "outlinewidth": 0,
              "ticks": ""
             }
            },
            "type": "scatterpolargl"
           }
          ],
          "scatterternary": [
           {
            "marker": {
             "colorbar": {
              "outlinewidth": 0,
              "ticks": ""
             }
            },
            "type": "scatterternary"
           }
          ],
          "surface": [
           {
            "colorbar": {
             "outlinewidth": 0,
             "ticks": ""
            },
            "colorscale": [
             [
              0,
              "#0d0887"
             ],
             [
              0.1111111111111111,
              "#46039f"
             ],
             [
              0.2222222222222222,
              "#7201a8"
             ],
             [
              0.3333333333333333,
              "#9c179e"
             ],
             [
              0.4444444444444444,
              "#bd3786"
             ],
             [
              0.5555555555555556,
              "#d8576b"
             ],
             [
              0.6666666666666666,
              "#ed7953"
             ],
             [
              0.7777777777777778,
              "#fb9f3a"
             ],
             [
              0.8888888888888888,
              "#fdca26"
             ],
             [
              1,
              "#f0f921"
             ]
            ],
            "type": "surface"
           }
          ],
          "table": [
           {
            "cells": {
             "fill": {
              "color": "#EBF0F8"
             },
             "line": {
              "color": "white"
             }
            },
            "header": {
             "fill": {
              "color": "#C8D4E3"
             },
             "line": {
              "color": "white"
             }
            },
            "type": "table"
           }
          ]
         },
         "layout": {
          "annotationdefaults": {
           "arrowcolor": "#2a3f5f",
           "arrowhead": 0,
           "arrowwidth": 1
          },
          "autotypenumbers": "strict",
          "coloraxis": {
           "colorbar": {
            "outlinewidth": 0,
            "ticks": ""
           }
          },
          "colorscale": {
           "diverging": [
            [
             0,
             "#8e0152"
            ],
            [
             0.1,
             "#c51b7d"
            ],
            [
             0.2,
             "#de77ae"
            ],
            [
             0.3,
             "#f1b6da"
            ],
            [
             0.4,
             "#fde0ef"
            ],
            [
             0.5,
             "#f7f7f7"
            ],
            [
             0.6,
             "#e6f5d0"
            ],
            [
             0.7,
             "#b8e186"
            ],
            [
             0.8,
             "#7fbc41"
            ],
            [
             0.9,
             "#4d9221"
            ],
            [
             1,
             "#276419"
            ]
           ],
           "sequential": [
            [
             0,
             "#0d0887"
            ],
            [
             0.1111111111111111,
             "#46039f"
            ],
            [
             0.2222222222222222,
             "#7201a8"
            ],
            [
             0.3333333333333333,
             "#9c179e"
            ],
            [
             0.4444444444444444,
             "#bd3786"
            ],
            [
             0.5555555555555556,
             "#d8576b"
            ],
            [
             0.6666666666666666,
             "#ed7953"
            ],
            [
             0.7777777777777778,
             "#fb9f3a"
            ],
            [
             0.8888888888888888,
             "#fdca26"
            ],
            [
             1,
             "#f0f921"
            ]
           ],
           "sequentialminus": [
            [
             0,
             "#0d0887"
            ],
            [
             0.1111111111111111,
             "#46039f"
            ],
            [
             0.2222222222222222,
             "#7201a8"
            ],
            [
             0.3333333333333333,
             "#9c179e"
            ],
            [
             0.4444444444444444,
             "#bd3786"
            ],
            [
             0.5555555555555556,
             "#d8576b"
            ],
            [
             0.6666666666666666,
             "#ed7953"
            ],
            [
             0.7777777777777778,
             "#fb9f3a"
            ],
            [
             0.8888888888888888,
             "#fdca26"
            ],
            [
             1,
             "#f0f921"
            ]
           ]
          },
          "colorway": [
           "#636efa",
           "#EF553B",
           "#00cc96",
           "#ab63fa",
           "#FFA15A",
           "#19d3f3",
           "#FF6692",
           "#B6E880",
           "#FF97FF",
           "#FECB52"
          ],
          "font": {
           "color": "#2a3f5f"
          },
          "geo": {
           "bgcolor": "white",
           "lakecolor": "white",
           "landcolor": "#E5ECF6",
           "showlakes": true,
           "showland": true,
           "subunitcolor": "white"
          },
          "hoverlabel": {
           "align": "left"
          },
          "hovermode": "closest",
          "mapbox": {
           "style": "light"
          },
          "paper_bgcolor": "white",
          "plot_bgcolor": "#E5ECF6",
          "polar": {
           "angularaxis": {
            "gridcolor": "white",
            "linecolor": "white",
            "ticks": ""
           },
           "bgcolor": "#E5ECF6",
           "radialaxis": {
            "gridcolor": "white",
            "linecolor": "white",
            "ticks": ""
           }
          },
          "scene": {
           "xaxis": {
            "backgroundcolor": "#E5ECF6",
            "gridcolor": "white",
            "gridwidth": 2,
            "linecolor": "white",
            "showbackground": true,
            "ticks": "",
            "zerolinecolor": "white"
           },
           "yaxis": {
            "backgroundcolor": "#E5ECF6",
            "gridcolor": "white",
            "gridwidth": 2,
            "linecolor": "white",
            "showbackground": true,
            "ticks": "",
            "zerolinecolor": "white"
           },
           "zaxis": {
            "backgroundcolor": "#E5ECF6",
            "gridcolor": "white",
            "gridwidth": 2,
            "linecolor": "white",
            "showbackground": true,
            "ticks": "",
            "zerolinecolor": "white"
           }
          },
          "shapedefaults": {
           "line": {
            "color": "#2a3f5f"
           }
          },
          "ternary": {
           "aaxis": {
            "gridcolor": "white",
            "linecolor": "white",
            "ticks": ""
           },
           "baxis": {
            "gridcolor": "white",
            "linecolor": "white",
            "ticks": ""
           },
           "bgcolor": "#E5ECF6",
           "caxis": {
            "gridcolor": "white",
            "linecolor": "white",
            "ticks": ""
           }
          },
          "title": {
           "x": 0.05
          },
          "xaxis": {
           "automargin": true,
           "gridcolor": "white",
           "linecolor": "white",
           "ticks": "",
           "title": {
            "standoff": 15
           },
           "zerolinecolor": "white",
           "zerolinewidth": 2
          },
          "yaxis": {
           "automargin": true,
           "gridcolor": "white",
           "linecolor": "white",
           "ticks": "",
           "title": {
            "standoff": 15
           },
           "zerolinecolor": "white",
           "zerolinewidth": 2
          }
         }
        },
        "title": {
         "text": "2D plot parameter influence - aggregate-state encoding"
        },
        "xaxis": {
         "title": {
          "text": "n_neighbours kNN"
         }
        },
        "yaxis": {
         "title": {
          "text": "MAE"
         }
        }
       }
      }
     },
     "metadata": {},
     "output_type": "display_data"
    },
    {
     "name": "stdout",
     "output_type": "stream",
     "text": [
      "\n",
      "\u001b[1m\n",
      "The performance of the model on the heldout data is:\u001b[0m \n",
      "MSE: 7197925.598875367\n",
      "r2_score: 0.37205723473285357\n",
      "MAE: 929.5635277738544\n",
      "RMSE: 7197925.598875367\n"
     ]
    }
   ],
   "source": [
    "# Define the K folds\n",
    "nk = 5\n",
    "kf = KFold(n_splits=nk, random_state=0, shuffle=True)\n",
    "\n",
    "# Set the search space of the parameters min_samples_leaf and max_depth\n",
    "n_neighbours_range = np.arange(1, 25, 2)\n",
    "\n",
    "# Set the grid to save MAE for each parameter combination\n",
    "training_MAE = np.zeros((nk , len(n_neighbours_range)))\n",
    "test_MAE = np.zeros((nk , len(n_neighbours_range)))\n",
    "\n",
    "# Loop through parameter ranges and calculate MAE\n",
    "i = 0 # KFold counter\n",
    "for train_index , val_index in kf.split(X_train_ag):\n",
    "    X_t, X_val = X_train_ag.iloc[train_index], X_train_ag.iloc[val_index]\n",
    "    y_t, y_val = y_train_ag.iloc[train_index], y_train_ag.iloc[val_index]\n",
    "    j = 0 # n_neighbors counter\n",
    "    for n_neigbour in n_neighbours_range:\n",
    "        knn_reg = KNeighborsRegressor(n_neighbors=n_neigbour, weights='distance')\n",
    "        knn_reg.fit(X_t, y_t)\n",
    "        # Calculate the MAE on the validation data\n",
    "        y_pred = knn_reg.predict(X_val)\n",
    "        training_MAE[i][j] = mean_absolute_error(y_val, y_pred)\n",
    "        # Make predictions for the test data\n",
    "        test_prediction = knn_reg.predict(X_test_ag)\n",
    "        test_MAE[i][j] = mean_absolute_error(y_test_ag, test_prediction)\n",
    "        j += 1\n",
    "    i += 1\n",
    "\n",
    "# Get the index of the highest MAE from the MAE grid and translate it to optimal parameter\n",
    "neighbour_index = list(np.unravel_index(np.argmin(np.mean(training_MAE, axis=0)), np.array(training_MAE).shape))[1]\n",
    "best_n_neighbours = n_neighbours_range[neighbour_index]\n",
    "\n",
    "print('\\n\\033[1m' + 'The optimal parameter based on MAE is:' + '\\033[0m' + '\\nn_neighbours: {}'.format(best_n_neighbours))\n",
    "\n",
    "# Plot 2d graph showing the influence of n_neighbors on training and testing MAE\n",
    "fig = go.Figure()\n",
    "fig.add_trace(go.Scatter(x=n_neighbours_range, y=np.mean(training_MAE , axis = 0), mode='lines+markers', name='Validation')) \n",
    "fig.add_trace(go.Scatter(x=n_neighbours_range, y=np.mean(test_MAE , axis = 0), mode='lines+markers', name='Test'))\n",
    "fig.update_layout(\n",
    "    title=\"2D plot parameter influence - aggregate-state encoding\",\n",
    "    xaxis_title=\"n_neighbours kNN\",\n",
    "    yaxis_title=\"MAE\"\n",
    ")\n",
    "fig.show()\n",
    "\n",
    "# Compute the performance of the model on your held-out test data\n",
    "prediction = KNeighborsRegressor(n_neighbors=best_n_neighbours).fit(X_train_ag, y_train_ag).predict(X_test_ag)\n",
    "\n",
    "print(\n",
    "    '\\n\\033[1m' +'\\nThe performance of the model on the heldout data is:' + '\\033[0m' +' \\nMSE: {}\\nr2_score: {}\\nMAE: {}\\nRMSE: {}'\n",
    "    .format(\n",
    "        mean_squared_error(y_test_ag, prediction),\n",
    "        r2_score(y_test_ag, prediction),\n",
    "        mean_absolute_error(y_test_ag, prediction),\n",
    "        mean_squared_error(y_test_ag, prediction, squared=True)\n",
    "    )\n",
    ")"
   ]
  },
  {
   "cell_type": "markdown",
   "id": "82de0533",
   "metadata": {},
   "source": [
    "## Bonus Tasks \n",
    "\n",
    "We would like to challenge you with the following bonus tasks. For each task that is successfully completed, you may obtain max. 1 extra point. \n",
    "\n",
    "1. Implement or use another regression algorithm (for example, [Random Forest Regression](https://scikit-learn.org/stable/modules/generated/sklearn.ensemble.RandomForestRegressor.html), [LinearRegresion](https://scikit-learn.org/stable/modules/generated/sklearn.linear_model.LinearRegression.html), [SVM Regression](https://scikit-learn.org/stable/auto_examples/svm/plot_svm_regression.html#sphx-glr-auto-examples-svm-plot-svm-regression-py)) or design your own algorithm that achieves a better MAE measure. Explain this in your report.\n",
    "2. Implement techniques (e.g., preprocessing, feature engineering, feature selection, sampling) that help improve the MAE scores of existing models. For example, try out a feature selection for kNN or implement inter-case features. Explain this in your report.\n",
    "\n"
   ]
  },
  {
   "cell_type": "markdown",
   "id": "e6005894",
   "metadata": {},
   "source": [
    "## Random forest regressor with default parameters"
   ]
  },
  {
   "cell_type": "code",
   "execution_count": 57,
   "id": "02745358",
   "metadata": {},
   "outputs": [
    {
     "name": "stdout",
     "output_type": "stream",
     "text": [
      "The performance of the default random forest regressor on the last_2_state data is: 1084.214476301931, \n",
      "The performance of the default random forest regressor on the aggregated state data is: 851.8411878291399, \n"
     ]
    }
   ],
   "source": [
    "from sklearn.ensemble import RandomForestRegressor\n",
    "from sklearn.metrics import mean_squared_error, mean_absolute_error, r2_score\n",
    "from sklearn.model_selection import KFold\n",
    "\n",
    "# Make predictions with default model\n",
    "regmodel_ls_pred = RandomForestRegressor().fit(X_train_ls, y_train_ls).predict(X_test_ls)\n",
    "regmodel_ag_pred = RandomForestRegressor().fit(X_train_ag, y_train_ag).predict(X_test_ag)\n",
    "\n",
    "print(\n",
    "    \"The performance of the default random forest regressor on the last_2_state data is: {}\"\n",
    "    .format(\n",
    "        mean_absolute_error(y_test_ls, regmodel_ls_pred),\n",
    "        mean_squared_error(y_test_ls, regmodel_ls_pred),\n",
    "        r2_score(y_test_ls, regmodel_ls_pred)\n",
    "    )\n",
    ")\n",
    "\n",
    "print(\n",
    "    \"The performance of the default random forest regressor on the aggregated state data is: {}\"\n",
    "    .format(\n",
    "        mean_absolute_error(y_test_ls, regmodel_ag_pred),\n",
    "        mean_squared_error(y_test_ls, regmodel_ag_pred),\n",
    "        r2_score(y_test_ls, regmodel_ag_pred)\n",
    "    )\n",
    ")"
   ]
  },
  {
   "cell_type": "markdown",
   "id": "9ecd47a0",
   "metadata": {},
   "source": [
    "## Random forest on last_2_state encoding"
   ]
  },
  {
   "cell_type": "code",
   "execution_count": 75,
   "id": "a965bd2d",
   "metadata": {},
   "outputs": [
    {
     "name": "stdout",
     "output_type": "stream",
     "text": [
      "The performance of the random forest regressor on the last_2_state data is MAE: 1069.2379444413796, MSE: 7105739.90466949, R2: 0.3800994600854961 \n"
     ]
    }
   ],
   "source": [
    "from sklearn.model_selection import RandomizedSearchCV\n",
    "from sklearn.ensemble import RandomForestRegressor\n",
    "\n",
    "# Define parameter search spaces and parameter grid\n",
    "param_grid = dict(\n",
    "    n_estimators=np.arange(50, 150, 10),\n",
    "    min_samples_split=np.arange(2,5),\n",
    "    min_samples_leaf=np.arange(1,5),\n",
    "    max_depth=np.arange(3, 10)\n",
    ")\n",
    "\n",
    "# Search for the best parameter combination\n",
    "model_type = RandomForestRegressor()\n",
    "grid_search = RandomizedSearchCV(model_type, param_grid, cv=5, random_state=10, n_jobs=-1)\n",
    "best_params = grid_search.fit(X_train_ls, y_train_ls).best_params_\n",
    "\n",
    "# Train a model with the optimal parameters\n",
    "regmodel_ls = RandomForestRegressor(\n",
    "    n_estimators=best_params.get('n_estimators'),\n",
    "    min_samples_split=best_params.get('min_samples_split'),\n",
    "    min_samples_leaf=best_params.get('min_samples_leaf'),\n",
    "    max_depth=best_params.get('max_depth')\n",
    ").fit(X_train_ls, y_train_ls)\n",
    "\n",
    "# Make predictions on the test data\n",
    "y_pred_ls = regmodel_ls.predict(X_test_ls)\n",
    "\n",
    "# Calculate performance metrics\n",
    "print(\n",
    "    \"The performance of the random forest regressor on the last_2_state data is MAE: {}, MSE: {}, R2: {} \"\n",
    "    .format(\n",
    "        mean_absolute_error(y_test_ls, y_pred_ls),\n",
    "        mean_squared_error(y_test_ls, y_pred_ls),\n",
    "        r2_score(y_test_ls, y_pred_ls)\n",
    "    )\n",
    ")"
   ]
  },
  {
   "cell_type": "markdown",
   "id": "895f180e",
   "metadata": {},
   "source": [
    "## Random forest on aggregate state encoding"
   ]
  },
  {
   "cell_type": "code",
   "execution_count": 73,
   "id": "074e0363",
   "metadata": {},
   "outputs": [
    {
     "name": "stdout",
     "output_type": "stream",
     "text": [
      "The performance of the random forest regressor on the last_2_state data is MAE: 892.2231667065275, MSE: 5852285.738283163, R2: 0.48945005902739613 \n"
     ]
    }
   ],
   "source": [
    "from sklearn.model_selection import RandomizedSearchCV\n",
    "from sklearn.ensemble import RandomForestRegressor\n",
    "\n",
    "# Define parameter search spaces and parameter grid\n",
    "param_grid = dict(\n",
    "    n_estimators=np.arange(50, 150, 10),\n",
    "    min_samples_split=np.arange(2,5),\n",
    "    min_samples_leaf=np.arange(1,5),\n",
    "    max_depth=np.arange(3, 10)\n",
    ")\n",
    "\n",
    "# Search for the best parameter combination\n",
    "model_type = RandomForestRegressor()\n",
    "grid_search = RandomizedSearchCV(model_type, param_grid, cv=5, random_state=10, n_jobs=-1)\n",
    "best_params = grid_search.fit(X_train_ag, y_train_ag).best_params_\n",
    "\n",
    "# Train a model with the optimal parameters\n",
    "regmodel_ag = RandomForestRegressor(\n",
    "    n_estimators=best_params.get('n_estimators'),\n",
    "    min_samples_split=best_params.get('min_samples_split'),\n",
    "    min_samples_leaf=best_params.get('min_samples_leaf'),\n",
    "    max_depth=best_params.get('max_depth')\n",
    ").fit(X_train_ag, y_train_ag)\n",
    "\n",
    "# Make predictions on the test data\n",
    "y_pred_ag = regmodel_ag.predict(X_test_ag)\n",
    "\n",
    "# Calculate performance metrics\n",
    "print(\n",
    "    \"The performance of the random forest regressor on the last_2_state data is MAE: {}, MSE: {}, R2: {} \"\n",
    "    .format(\n",
    "        mean_absolute_error(y_test_ag, y_pred_ag),\n",
    "        mean_squared_error(y_test_ag, y_pred_ag),\n",
    "        r2_score(y_test_ag, y_pred_ag)\n",
    "    )\n",
    ")"
   ]
  },
  {
   "cell_type": "markdown",
   "id": "5c78930e",
   "metadata": {},
   "source": [
    "## Feature optimization"
   ]
  },
  {
   "cell_type": "code",
   "execution_count": 81,
   "id": "a7125bab",
   "metadata": {},
   "outputs": [
    {
     "data": {
      "text/plain": [
       "<module 'matplotlib.pyplot' from '/Users/sjoerdvink/opt/anaconda3/lib/python3.8/site-packages/matplotlib/pyplot.py'>"
      ]
     },
     "execution_count": 81,
     "metadata": {},
     "output_type": "execute_result"
    },
    {
     "data": {
      "image/png": "[encoded data removed]",
      "text/plain": [
       "<Figure size 432x288 with 1 Axes>"
      ]
     },
     "metadata": {},
     "output_type": "display_data"
    }
   ],
   "source": [
    "import matplotlib.pyplot as plt\n",
    "\n",
    "# range for amount of features and steps that should be taken\n",
    "best_features = pd.DataFrame(\n",
    "    regmodel_ag.feature_importances_,\n",
    "    index = X_train_ag.columns,\n",
    "    columns=['importance']).sort_values('importance',\n",
    "    ascending=False\n",
    ")\n",
    "\n",
    "def top_features(feature):\n",
    "    \"\"\"\n",
    "    Train a Random forest regressor with the provided number of features\n",
    "    \"\"\"\n",
    "    reg = RandomForestRegressor(\n",
    "        n_estimators=best_params.get('n_estimators'),\n",
    "        min_samples_split=best_params.get('min_samples_split'),\n",
    "        min_samples_leaf=best_params.get('min_samples_leaf'),\n",
    "        max_depth=best_params.get('max_depth')\n",
    "    )\n",
    "    reg.fit(X_train_ag[list(best_features.index[:feature])], y_train_ag)\n",
    "    y_predict = reg.predict(X_test_ag[list(best_features.index[:feature])])\n",
    "    return mean_absolute_error(y_test_ag, y_predict)\n",
    "\n",
    "# Loop through the feature range\n",
    "feature_range = list(range(2, len(best_features), 2))\n",
    "mae_scores_reg = []\n",
    "for n in feature_range:\n",
    "    current_mae = top_features(n)\n",
    "    mae_scores_reg.append(current_mae)\n",
    "\n",
    "# Plot the result\n",
    "plt.plot(feature_range, mae_scores_reg)\n",
    "plt.ylim((800, 1500))\n",
    "plt.xlabel(\"Features\")\n",
    "plt.ylabel(\"Mean absolute error\")\n",
    "plt.title(\"Amount of features vs mean absolute error\")\n",
    "plt"
   ]
  }
 ],
 "metadata": {
  "kernelspec": {
   "display_name": "Python 3",
   "language": "python",
   "name": "python3"
  },
  "language_info": {
   "codemirror_mode": {
    "name": "ipython",
    "version": 3
   },
   "file_extension": ".py",
   "mimetype": "text/x-python",
   "name": "python",
   "nbconvert_exporter": "python",
   "pygments_lexer": "ipython3",
   "version": "3.8.5"
  }
 },
 "nbformat": 4,
 "nbformat_minor": 5
}
